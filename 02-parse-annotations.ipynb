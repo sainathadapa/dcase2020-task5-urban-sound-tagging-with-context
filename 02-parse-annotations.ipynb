{
 "cells": [
  {
   "cell_type": "code",
   "execution_count": 1,
   "metadata": {},
   "outputs": [],
   "source": [
    "from IPython.core.interactiveshell import InteractiveShell\n",
    "InteractiveShell.ast_node_interactivity = \"all\""
   ]
  },
  {
   "cell_type": "code",
   "execution_count": 2,
   "metadata": {},
   "outputs": [],
   "source": [
    "import datetime\n",
    "import pickle\n",
    "import yaml\n",
    "import pandas as pd"
   ]
  },
  {
   "cell_type": "markdown",
   "metadata": {},
   "source": [
    "# Load annotation data"
   ]
  },
  {
   "cell_type": "code",
   "execution_count": 3,
   "metadata": {},
   "outputs": [],
   "source": [
    "annotation_data = pd.read_csv('./data/annotations.csv', low_memory=False)"
   ]
  },
  {
   "cell_type": "code",
   "execution_count": 4,
   "metadata": {
    "scrolled": true
   },
   "outputs": [
    {
     "data": {
      "text/plain": [
       "[(0, 'split'),\n",
       " (1, 'sensor_id'),\n",
       " (2, 'audio_filename'),\n",
       " (3, 'annotator_id'),\n",
       " (4, 'borough'),\n",
       " (5, 'block'),\n",
       " (6, 'latitude'),\n",
       " (7, 'longitude'),\n",
       " (8, 'year'),\n",
       " (9, 'week'),\n",
       " (10, 'day'),\n",
       " (11, 'hour'),\n",
       " (12, '1-1_small-sounding-engine_presence'),\n",
       " (13, '1-2_medium-sounding-engine_presence'),\n",
       " (14, '1-3_large-sounding-engine_presence'),\n",
       " (15, '1-X_engine-of-uncertain-size_presence'),\n",
       " (16, '2-1_rock-drill_presence'),\n",
       " (17, '2-2_jackhammer_presence'),\n",
       " (18, '2-3_hoe-ram_presence'),\n",
       " (19, '2-4_pile-driver_presence'),\n",
       " (20, '2-X_other-unknown-impact-machinery_presence'),\n",
       " (21, '3-1_non-machinery-impact_presence'),\n",
       " (22, '4-1_chainsaw_presence'),\n",
       " (23, '4-2_small-medium-rotating-saw_presence'),\n",
       " (24, '4-3_large-rotating-saw_presence'),\n",
       " (25, '4-X_other-unknown-powered-saw_presence'),\n",
       " (26, '5-1_car-horn_presence'),\n",
       " (27, '5-2_car-alarm_presence'),\n",
       " (28, '5-3_siren_presence'),\n",
       " (29, '5-4_reverse-beeper_presence'),\n",
       " (30, '5-X_other-unknown-alert-signal_presence'),\n",
       " (31, '6-1_stationary-music_presence'),\n",
       " (32, '6-2_mobile-music_presence'),\n",
       " (33, '6-3_ice-cream-truck_presence'),\n",
       " (34, '6-X_music-from-uncertain-source_presence'),\n",
       " (35, '7-1_person-or-small-group-talking_presence'),\n",
       " (36, '7-2_person-or-small-group-shouting_presence'),\n",
       " (37, '7-3_large-crowd_presence'),\n",
       " (38, '7-4_amplified-speech_presence'),\n",
       " (39, '7-X_other-unknown-human-voice_presence'),\n",
       " (40, '8-1_dog-barking-whining_presence'),\n",
       " (41, '1-1_small-sounding-engine_proximity'),\n",
       " (42, '1-2_medium-sounding-engine_proximity'),\n",
       " (43, '1-3_large-sounding-engine_proximity'),\n",
       " (44, '1-X_engine-of-uncertain-size_proximity'),\n",
       " (45, '2-1_rock-drill_proximity'),\n",
       " (46, '2-2_jackhammer_proximity'),\n",
       " (47, '2-3_hoe-ram_proximity'),\n",
       " (48, '2-4_pile-driver_proximity'),\n",
       " (49, '2-X_other-unknown-impact-machinery_proximity'),\n",
       " (50, '3-1_non-machinery-impact_proximity'),\n",
       " (51, '4-1_chainsaw_proximity'),\n",
       " (52, '4-2_small-medium-rotating-saw_proximity'),\n",
       " (53, '4-3_large-rotating-saw_proximity'),\n",
       " (54, '4-X_other-unknown-powered-saw_proximity'),\n",
       " (55, '5-1_car-horn_proximity'),\n",
       " (56, '5-2_car-alarm_proximity'),\n",
       " (57, '5-3_siren_proximity'),\n",
       " (58, '5-4_reverse-beeper_proximity'),\n",
       " (59, '5-X_other-unknown-alert-signal_proximity'),\n",
       " (60, '6-1_stationary-music_proximity'),\n",
       " (61, '6-2_mobile-music_proximity'),\n",
       " (62, '6-3_ice-cream-truck_proximity'),\n",
       " (63, '6-X_music-from-uncertain-source_proximity'),\n",
       " (64, '7-1_person-or-small-group-talking_proximity'),\n",
       " (65, '7-2_person-or-small-group-shouting_proximity'),\n",
       " (66, '7-3_large-crowd_proximity'),\n",
       " (67, '7-4_amplified-speech_proximity'),\n",
       " (68, '7-X_other-unknown-human-voice_proximity'),\n",
       " (69, '8-1_dog-barking-whining_proximity'),\n",
       " (70, '1_engine_presence'),\n",
       " (71, '2_machinery-impact_presence'),\n",
       " (72, '3_non-machinery-impact_presence'),\n",
       " (73, '4_powered-saw_presence'),\n",
       " (74, '5_alert-signal_presence'),\n",
       " (75, '6_music_presence'),\n",
       " (76, '7_human-voice_presence'),\n",
       " (77, '8_dog_presence')]"
      ]
     },
     "execution_count": 4,
     "metadata": {},
     "output_type": "execute_result"
    }
   ],
   "source": [
    "list(enumerate(annotation_data.columns))"
   ]
  },
  {
   "cell_type": "code",
   "execution_count": 5,
   "metadata": {},
   "outputs": [
    {
     "data": {
      "text/html": [
       "<div>\n",
       "<style scoped>\n",
       "    .dataframe tbody tr th:only-of-type {\n",
       "        vertical-align: middle;\n",
       "    }\n",
       "\n",
       "    .dataframe tbody tr th {\n",
       "        vertical-align: top;\n",
       "    }\n",
       "\n",
       "    .dataframe thead th {\n",
       "        text-align: right;\n",
       "    }\n",
       "</style>\n",
       "<table border=\"1\" class=\"dataframe\">\n",
       "  <thead>\n",
       "    <tr style=\"text-align: right;\">\n",
       "      <th></th>\n",
       "      <th>23469</th>\n",
       "      <th>19883</th>\n",
       "    </tr>\n",
       "  </thead>\n",
       "  <tbody>\n",
       "    <tr>\n",
       "      <th>split</th>\n",
       "      <td>train</td>\n",
       "      <td>train</td>\n",
       "    </tr>\n",
       "    <tr>\n",
       "      <th>sensor_id</th>\n",
       "      <td>28</td>\n",
       "      <td>27</td>\n",
       "    </tr>\n",
       "    <tr>\n",
       "      <th>audio_filename</th>\n",
       "      <td>28_012004.wav</td>\n",
       "      <td>27_000315.wav</td>\n",
       "    </tr>\n",
       "    <tr>\n",
       "      <th>annotator_id</th>\n",
       "      <td>4468</td>\n",
       "      <td>109</td>\n",
       "    </tr>\n",
       "    <tr>\n",
       "      <th>borough</th>\n",
       "      <td>1</td>\n",
       "      <td>1</td>\n",
       "    </tr>\n",
       "    <tr>\n",
       "      <th>block</th>\n",
       "      <td>1315</td>\n",
       "      <td>547</td>\n",
       "    </tr>\n",
       "    <tr>\n",
       "      <th>latitude</th>\n",
       "      <td>40.7501</td>\n",
       "      <td>40.7303</td>\n",
       "    </tr>\n",
       "    <tr>\n",
       "      <th>longitude</th>\n",
       "      <td>-73.974</td>\n",
       "      <td>-73.9956</td>\n",
       "    </tr>\n",
       "    <tr>\n",
       "      <th>year</th>\n",
       "      <td>2018</td>\n",
       "      <td>2017</td>\n",
       "    </tr>\n",
       "    <tr>\n",
       "      <th>week</th>\n",
       "      <td>4</td>\n",
       "      <td>29</td>\n",
       "    </tr>\n",
       "    <tr>\n",
       "      <th>day</th>\n",
       "      <td>1</td>\n",
       "      <td>4</td>\n",
       "    </tr>\n",
       "    <tr>\n",
       "      <th>hour</th>\n",
       "      <td>17</td>\n",
       "      <td>17</td>\n",
       "    </tr>\n",
       "  </tbody>\n",
       "</table>\n",
       "</div>"
      ],
      "text/plain": [
       "                        23469          19883\n",
       "split                   train          train\n",
       "sensor_id                  28             27\n",
       "audio_filename  28_012004.wav  27_000315.wav\n",
       "annotator_id             4468            109\n",
       "borough                     1              1\n",
       "block                    1315            547\n",
       "latitude              40.7501        40.7303\n",
       "longitude             -73.974       -73.9956\n",
       "year                     2018           2017\n",
       "week                        4             29\n",
       "day                         1              4\n",
       "hour                       17             17"
      ]
     },
     "execution_count": 5,
     "metadata": {},
     "output_type": "execute_result"
    }
   ],
   "source": [
    "annotation_data.iloc[:, :12].sample(2).T"
   ]
  },
  {
   "cell_type": "code",
   "execution_count": 6,
   "metadata": {},
   "outputs": [],
   "source": [
    "annotation_data['dt'] = annotation_data.apply(\n",
    "    lambda x: f\"{x.year}-{x.week}-{x.day + 1}\",\n",
    "    axis=1\n",
    ").map(lambda x: datetime.datetime.strptime(x, '%Y-%W-%u'))"
   ]
  },
  {
   "cell_type": "code",
   "execution_count": 7,
   "metadata": {},
   "outputs": [],
   "source": [
    "annotation_data['date_slno'] = (annotation_data.dt - annotation_data.dt.min()).dt.days"
   ]
  },
  {
   "cell_type": "code",
   "execution_count": 8,
   "metadata": {},
   "outputs": [
    {
     "data": {
      "text/plain": [
       "18515"
      ]
     },
     "execution_count": 8,
     "metadata": {},
     "output_type": "execute_result"
    }
   ],
   "source": [
    "annotation_data = annotation_data.sort_values('audio_filename')\n",
    "file_list = annotation_data['audio_filename'].unique().tolist()\n",
    "len(file_list)"
   ]
  },
  {
   "cell_type": "markdown",
   "metadata": {},
   "source": [
    "# Train/validate/test dataset exploration"
   ]
  },
  {
   "cell_type": "code",
   "execution_count": 9,
   "metadata": {},
   "outputs": [
    {
     "data": {
      "text/plain": [
       "(57449, 80)"
      ]
     },
     "execution_count": 9,
     "metadata": {},
     "output_type": "execute_result"
    }
   ],
   "source": [
    "annotation_data.shape"
   ]
  },
  {
   "cell_type": "code",
   "execution_count": 10,
   "metadata": {},
   "outputs": [
    {
     "data": {
      "text/plain": [
       "(18515,)"
      ]
     },
     "execution_count": 10,
     "metadata": {},
     "output_type": "execute_result"
    },
    {
     "data": {
      "text/plain": [
       "(18515, 2)"
      ]
     },
     "execution_count": 10,
     "metadata": {},
     "output_type": "execute_result"
    },
    {
     "data": {
      "text/plain": [
       "(18515, 11)"
      ]
     },
     "execution_count": 10,
     "metadata": {},
     "output_type": "execute_result"
    }
   ],
   "source": [
    "annotation_data.audio_filename.drop_duplicates().shape\n",
    "\n",
    "(annotation_data\n",
    " .loc[:, ['split', 'audio_filename']]\n",
    " .drop_duplicates()\n",
    ").shape\n",
    "\n",
    "(annotation_data\n",
    " .loc[:, ['split', 'audio_filename', 'borough', 'block', 'latitude', 'longitude', 'year', 'week', 'day', 'hour', 'dt']]\n",
    " .drop_duplicates()\n",
    ").shape"
   ]
  },
  {
   "cell_type": "code",
   "execution_count": 11,
   "metadata": {},
   "outputs": [],
   "source": [
    "tmp = (annotation_data\n",
    "       .loc[:, ['split', 'audio_filename', 'borough', 'block', 'latitude', 'longitude', 'year', 'week', 'day', 'hour', 'dt']]\n",
    "       .drop_duplicates())"
   ]
  },
  {
   "cell_type": "code",
   "execution_count": 12,
   "metadata": {},
   "outputs": [
    {
     "data": {
      "text/plain": [
       "train       13538\n",
       "validate     4308\n",
       "test          669\n",
       "Name: split, dtype: int64"
      ]
     },
     "execution_count": 12,
     "metadata": {},
     "output_type": "execute_result"
    }
   ],
   "source": [
    "tmp.loc[:, ['split', 'audio_filename']].split.value_counts()"
   ]
  },
  {
   "cell_type": "code",
   "execution_count": 13,
   "metadata": {},
   "outputs": [
    {
     "data": {
      "text/plain": [
       "[1, 3, 4]"
      ]
     },
     "execution_count": 13,
     "metadata": {},
     "output_type": "execute_result"
    },
    {
     "data": {
      "text/plain": [
       "[1, 3]"
      ]
     },
     "execution_count": 13,
     "metadata": {},
     "output_type": "execute_result"
    },
    {
     "data": {
      "text/plain": [
       "[1, 3, 4]"
      ]
     },
     "execution_count": 13,
     "metadata": {},
     "output_type": "execute_result"
    }
   ],
   "source": [
    "tmp.loc[lambda x: x.split == 'train'].borough.drop_duplicates().tolist()\n",
    "tmp.loc[lambda x: x.split == 'validate'].borough.drop_duplicates().tolist()\n",
    "tmp.loc[lambda x: x.split == 'test'].borough.drop_duplicates().tolist()"
   ]
  },
  {
   "cell_type": "code",
   "execution_count": 14,
   "metadata": {},
   "outputs": [
    {
     "data": {
      "text/plain": [
       "4"
      ]
     },
     "execution_count": 14,
     "metadata": {},
     "output_type": "execute_result"
    },
    {
     "data": {
      "text/plain": [
       "13"
      ]
     },
     "execution_count": 14,
     "metadata": {},
     "output_type": "execute_result"
    }
   ],
   "source": [
    "train_blocks = set(tmp.loc[lambda x: x.split == 'train'].block.tolist())\n",
    "validate_blocks = set(tmp.loc[lambda x: x.split == 'validate'].block.tolist())\n",
    "test_blocks = set(tmp.loc[lambda x: x.split == 'test'].block.tolist())\n",
    "\n",
    "len(validate_blocks - train_blocks)\n",
    "len(test_blocks - train_blocks)"
   ]
  },
  {
   "cell_type": "code",
   "execution_count": 15,
   "metadata": {},
   "outputs": [
    {
     "data": {
      "text/plain": [
       "(Timestamp('2016-05-21 00:00:00'), Timestamp('2019-04-18 00:00:00'))"
      ]
     },
     "execution_count": 15,
     "metadata": {},
     "output_type": "execute_result"
    },
    {
     "data": {
      "text/plain": [
       "(Timestamp('2016-05-07 00:00:00'), Timestamp('2019-04-18 00:00:00'))"
      ]
     },
     "execution_count": 15,
     "metadata": {},
     "output_type": "execute_result"
    },
    {
     "data": {
      "text/plain": [
       "(Timestamp('2019-04-22 00:00:00'), Timestamp('2020-01-05 00:00:00'))"
      ]
     },
     "execution_count": 15,
     "metadata": {},
     "output_type": "execute_result"
    }
   ],
   "source": [
    "tmp.loc[lambda x: x.split == 'train'].dt.min(), tmp.loc[lambda x: x.split == 'train'].dt.max()\n",
    "tmp.loc[lambda x: x.split == 'validate'].dt.min(), tmp.loc[lambda x: x.split == 'validate'].dt.max()\n",
    "tmp.loc[lambda x: x.split == 'test'].dt.min(), tmp.loc[lambda x: x.split == 'test'].dt.max()"
   ]
  },
  {
   "cell_type": "code",
   "execution_count": 16,
   "metadata": {},
   "outputs": [
    {
     "data": {
      "text/plain": [
       "(40.69413, 40.77991)"
      ]
     },
     "execution_count": 16,
     "metadata": {},
     "output_type": "execute_result"
    },
    {
     "data": {
      "text/plain": [
       "(40.693979999999996, 40.73642)"
      ]
     },
     "execution_count": 16,
     "metadata": {},
     "output_type": "execute_result"
    },
    {
     "data": {
      "text/plain": [
       "(40.67517, 40.77991)"
      ]
     },
     "execution_count": 16,
     "metadata": {},
     "output_type": "execute_result"
    }
   ],
   "source": [
    "tmp.loc[lambda x: x.split == 'train'].latitude.min(), tmp.loc[lambda x: x.split == 'train'].latitude.max()\n",
    "tmp.loc[lambda x: x.split == 'validate'].latitude.min(), tmp.loc[lambda x: x.split == 'validate'].latitude.max()\n",
    "tmp.loc[lambda x: x.split == 'test'].latitude.min(), tmp.loc[lambda x: x.split == 'test'].latitude.max()"
   ]
  },
  {
   "cell_type": "code",
   "execution_count": 17,
   "metadata": {},
   "outputs": [
    {
     "data": {
      "text/plain": [
       "(-74.00499, -73.85184)"
      ]
     },
     "execution_count": 17,
     "metadata": {},
     "output_type": "execute_result"
    },
    {
     "data": {
      "text/plain": [
       "(-73.99728, -73.98697)"
      ]
     },
     "execution_count": 17,
     "metadata": {},
     "output_type": "execute_result"
    },
    {
     "data": {
      "text/plain": [
       "(-74.01576, -73.85184)"
      ]
     },
     "execution_count": 17,
     "metadata": {},
     "output_type": "execute_result"
    }
   ],
   "source": [
    "tmp.loc[lambda x: x.split == 'train'].longitude.min(), tmp.loc[lambda x: x.split == 'train'].longitude.max()\n",
    "tmp.loc[lambda x: x.split == 'validate'].longitude.min(), tmp.loc[lambda x: x.split == 'validate'].longitude.max()\n",
    "tmp.loc[lambda x: x.split == 'test'].longitude.min(), tmp.loc[lambda x: x.split == 'test'].longitude.max()"
   ]
  },
  {
   "cell_type": "markdown",
   "metadata": {},
   "source": [
    "# Parse taxonomy"
   ]
  },
  {
   "cell_type": "code",
   "execution_count": 18,
   "metadata": {},
   "outputs": [],
   "source": [
    "with open('./data/dcase-ust-taxonomy.yaml', 'r') as f:\n",
    "    taxonomy = yaml.load(f, Loader=yaml.Loader)"
   ]
  },
  {
   "cell_type": "code",
   "execution_count": 19,
   "metadata": {},
   "outputs": [],
   "source": [
    "full_fine_target_labels = [\"{}-{}_{}\".format(coarse_id, fine_id, fine_label)\n",
    "                           for coarse_id, fine_dict in taxonomy['fine'].items()\n",
    "                           for fine_id, fine_label in fine_dict.items()]\n",
    "\n",
    "fine_target_labels = [x\n",
    "                      for x in full_fine_target_labels\n",
    "                      if x.split('_')[0].split('-')[1] != 'X']\n",
    "\n",
    "coarse_target_labels = [\"_\".join([str(k), v])\n",
    "                        for k, v in taxonomy['coarse'].items()]"
   ]
  },
  {
   "cell_type": "code",
   "execution_count": 20,
   "metadata": {},
   "outputs": [
    {
     "data": {
      "text/plain": [
       "['1-1_small-sounding-engine',\n",
       " '1-2_medium-sounding-engine',\n",
       " '1-3_large-sounding-engine',\n",
       " '1-X_engine-of-uncertain-size',\n",
       " '2-1_rock-drill',\n",
       " '2-2_jackhammer',\n",
       " '2-3_hoe-ram',\n",
       " '2-4_pile-driver',\n",
       " '2-X_other-unknown-impact-machinery',\n",
       " '3-1_non-machinery-impact',\n",
       " '4-1_chainsaw',\n",
       " '4-2_small-medium-rotating-saw',\n",
       " '4-3_large-rotating-saw',\n",
       " '4-X_other-unknown-powered-saw',\n",
       " '5-1_car-horn',\n",
       " '5-2_car-alarm',\n",
       " '5-3_siren',\n",
       " '5-4_reverse-beeper',\n",
       " '5-X_other-unknown-alert-signal',\n",
       " '6-1_stationary-music',\n",
       " '6-2_mobile-music',\n",
       " '6-3_ice-cream-truck',\n",
       " '6-X_music-from-uncertain-source',\n",
       " '7-1_person-or-small-group-talking',\n",
       " '7-2_person-or-small-group-shouting',\n",
       " '7-3_large-crowd',\n",
       " '7-4_amplified-speech',\n",
       " '7-X_other-unknown-human-voice',\n",
       " '8-1_dog-barking-whining']"
      ]
     },
     "execution_count": 20,
     "metadata": {},
     "output_type": "execute_result"
    },
    {
     "data": {
      "text/plain": [
       "['1-1_small-sounding-engine',\n",
       " '1-2_medium-sounding-engine',\n",
       " '1-3_large-sounding-engine',\n",
       " '2-1_rock-drill',\n",
       " '2-2_jackhammer',\n",
       " '2-3_hoe-ram',\n",
       " '2-4_pile-driver',\n",
       " '3-1_non-machinery-impact',\n",
       " '4-1_chainsaw',\n",
       " '4-2_small-medium-rotating-saw',\n",
       " '4-3_large-rotating-saw',\n",
       " '5-1_car-horn',\n",
       " '5-2_car-alarm',\n",
       " '5-3_siren',\n",
       " '5-4_reverse-beeper',\n",
       " '6-1_stationary-music',\n",
       " '6-2_mobile-music',\n",
       " '6-3_ice-cream-truck',\n",
       " '7-1_person-or-small-group-talking',\n",
       " '7-2_person-or-small-group-shouting',\n",
       " '7-3_large-crowd',\n",
       " '7-4_amplified-speech',\n",
       " '8-1_dog-barking-whining']"
      ]
     },
     "execution_count": 20,
     "metadata": {},
     "output_type": "execute_result"
    },
    {
     "data": {
      "text/plain": [
       "['1_engine',\n",
       " '2_machinery-impact',\n",
       " '3_non-machinery-impact',\n",
       " '4_powered-saw',\n",
       " '5_alert-signal',\n",
       " '6_music',\n",
       " '7_human-voice',\n",
       " '8_dog']"
      ]
     },
     "execution_count": 20,
     "metadata": {},
     "output_type": "execute_result"
    }
   ],
   "source": [
    "full_fine_target_labels\n",
    "fine_target_labels\n",
    "coarse_target_labels"
   ]
  },
  {
   "cell_type": "code",
   "execution_count": 21,
   "metadata": {},
   "outputs": [],
   "source": [
    "tmp1 = pd.DataFrame.from_records([\n",
    "    (key1, key2, val2)\n",
    "    for key1, val1 in taxonomy['fine'].items()\n",
    "    for key2, val2 in val1.items()\n",
    "], columns=['coarse_id', 'fine_id', 'fine'])\n",
    "tmp2 = pd.DataFrame.from_records([\n",
    "    (key, val)\n",
    "    for key, val in taxonomy['coarse'].items()\n",
    "], columns=['coarse_id', 'coarse'])\n",
    "taxonomy_df = pd.merge(tmp1, tmp2, on='coarse_id', how='inner')\n",
    "taxonomy_df = taxonomy_df.astype('str')\n",
    "taxonomy_df['coarse'] = taxonomy_df.coarse_id + '_' + taxonomy_df.coarse\n",
    "taxonomy_df['fine'] = taxonomy_df.coarse_id + '-' + taxonomy_df.fine_id + '_' + taxonomy_df.fine"
   ]
  },
  {
   "cell_type": "code",
   "execution_count": 22,
   "metadata": {},
   "outputs": [
    {
     "data": {
      "text/html": [
       "<div>\n",
       "<style scoped>\n",
       "    .dataframe tbody tr th:only-of-type {\n",
       "        vertical-align: middle;\n",
       "    }\n",
       "\n",
       "    .dataframe tbody tr th {\n",
       "        vertical-align: top;\n",
       "    }\n",
       "\n",
       "    .dataframe thead th {\n",
       "        text-align: right;\n",
       "    }\n",
       "</style>\n",
       "<table border=\"1\" class=\"dataframe\">\n",
       "  <thead>\n",
       "    <tr style=\"text-align: right;\">\n",
       "      <th></th>\n",
       "      <th>coarse_id</th>\n",
       "      <th>fine_id</th>\n",
       "      <th>fine</th>\n",
       "      <th>coarse</th>\n",
       "    </tr>\n",
       "  </thead>\n",
       "  <tbody>\n",
       "    <tr>\n",
       "      <th>0</th>\n",
       "      <td>1</td>\n",
       "      <td>1</td>\n",
       "      <td>1-1_small-sounding-engine</td>\n",
       "      <td>1_engine</td>\n",
       "    </tr>\n",
       "    <tr>\n",
       "      <th>1</th>\n",
       "      <td>1</td>\n",
       "      <td>2</td>\n",
       "      <td>1-2_medium-sounding-engine</td>\n",
       "      <td>1_engine</td>\n",
       "    </tr>\n",
       "    <tr>\n",
       "      <th>2</th>\n",
       "      <td>1</td>\n",
       "      <td>3</td>\n",
       "      <td>1-3_large-sounding-engine</td>\n",
       "      <td>1_engine</td>\n",
       "    </tr>\n",
       "    <tr>\n",
       "      <th>3</th>\n",
       "      <td>1</td>\n",
       "      <td>X</td>\n",
       "      <td>1-X_engine-of-uncertain-size</td>\n",
       "      <td>1_engine</td>\n",
       "    </tr>\n",
       "    <tr>\n",
       "      <th>4</th>\n",
       "      <td>2</td>\n",
       "      <td>1</td>\n",
       "      <td>2-1_rock-drill</td>\n",
       "      <td>2_machinery-impact</td>\n",
       "    </tr>\n",
       "    <tr>\n",
       "      <th>5</th>\n",
       "      <td>2</td>\n",
       "      <td>2</td>\n",
       "      <td>2-2_jackhammer</td>\n",
       "      <td>2_machinery-impact</td>\n",
       "    </tr>\n",
       "    <tr>\n",
       "      <th>6</th>\n",
       "      <td>2</td>\n",
       "      <td>3</td>\n",
       "      <td>2-3_hoe-ram</td>\n",
       "      <td>2_machinery-impact</td>\n",
       "    </tr>\n",
       "    <tr>\n",
       "      <th>7</th>\n",
       "      <td>2</td>\n",
       "      <td>4</td>\n",
       "      <td>2-4_pile-driver</td>\n",
       "      <td>2_machinery-impact</td>\n",
       "    </tr>\n",
       "    <tr>\n",
       "      <th>8</th>\n",
       "      <td>2</td>\n",
       "      <td>X</td>\n",
       "      <td>2-X_other-unknown-impact-machinery</td>\n",
       "      <td>2_machinery-impact</td>\n",
       "    </tr>\n",
       "    <tr>\n",
       "      <th>9</th>\n",
       "      <td>3</td>\n",
       "      <td>1</td>\n",
       "      <td>3-1_non-machinery-impact</td>\n",
       "      <td>3_non-machinery-impact</td>\n",
       "    </tr>\n",
       "    <tr>\n",
       "      <th>10</th>\n",
       "      <td>4</td>\n",
       "      <td>1</td>\n",
       "      <td>4-1_chainsaw</td>\n",
       "      <td>4_powered-saw</td>\n",
       "    </tr>\n",
       "    <tr>\n",
       "      <th>11</th>\n",
       "      <td>4</td>\n",
       "      <td>2</td>\n",
       "      <td>4-2_small-medium-rotating-saw</td>\n",
       "      <td>4_powered-saw</td>\n",
       "    </tr>\n",
       "    <tr>\n",
       "      <th>12</th>\n",
       "      <td>4</td>\n",
       "      <td>3</td>\n",
       "      <td>4-3_large-rotating-saw</td>\n",
       "      <td>4_powered-saw</td>\n",
       "    </tr>\n",
       "    <tr>\n",
       "      <th>13</th>\n",
       "      <td>4</td>\n",
       "      <td>X</td>\n",
       "      <td>4-X_other-unknown-powered-saw</td>\n",
       "      <td>4_powered-saw</td>\n",
       "    </tr>\n",
       "    <tr>\n",
       "      <th>14</th>\n",
       "      <td>5</td>\n",
       "      <td>1</td>\n",
       "      <td>5-1_car-horn</td>\n",
       "      <td>5_alert-signal</td>\n",
       "    </tr>\n",
       "    <tr>\n",
       "      <th>15</th>\n",
       "      <td>5</td>\n",
       "      <td>2</td>\n",
       "      <td>5-2_car-alarm</td>\n",
       "      <td>5_alert-signal</td>\n",
       "    </tr>\n",
       "    <tr>\n",
       "      <th>16</th>\n",
       "      <td>5</td>\n",
       "      <td>3</td>\n",
       "      <td>5-3_siren</td>\n",
       "      <td>5_alert-signal</td>\n",
       "    </tr>\n",
       "    <tr>\n",
       "      <th>17</th>\n",
       "      <td>5</td>\n",
       "      <td>4</td>\n",
       "      <td>5-4_reverse-beeper</td>\n",
       "      <td>5_alert-signal</td>\n",
       "    </tr>\n",
       "    <tr>\n",
       "      <th>18</th>\n",
       "      <td>5</td>\n",
       "      <td>X</td>\n",
       "      <td>5-X_other-unknown-alert-signal</td>\n",
       "      <td>5_alert-signal</td>\n",
       "    </tr>\n",
       "    <tr>\n",
       "      <th>19</th>\n",
       "      <td>6</td>\n",
       "      <td>1</td>\n",
       "      <td>6-1_stationary-music</td>\n",
       "      <td>6_music</td>\n",
       "    </tr>\n",
       "    <tr>\n",
       "      <th>20</th>\n",
       "      <td>6</td>\n",
       "      <td>2</td>\n",
       "      <td>6-2_mobile-music</td>\n",
       "      <td>6_music</td>\n",
       "    </tr>\n",
       "    <tr>\n",
       "      <th>21</th>\n",
       "      <td>6</td>\n",
       "      <td>3</td>\n",
       "      <td>6-3_ice-cream-truck</td>\n",
       "      <td>6_music</td>\n",
       "    </tr>\n",
       "    <tr>\n",
       "      <th>22</th>\n",
       "      <td>6</td>\n",
       "      <td>X</td>\n",
       "      <td>6-X_music-from-uncertain-source</td>\n",
       "      <td>6_music</td>\n",
       "    </tr>\n",
       "    <tr>\n",
       "      <th>23</th>\n",
       "      <td>7</td>\n",
       "      <td>1</td>\n",
       "      <td>7-1_person-or-small-group-talking</td>\n",
       "      <td>7_human-voice</td>\n",
       "    </tr>\n",
       "    <tr>\n",
       "      <th>24</th>\n",
       "      <td>7</td>\n",
       "      <td>2</td>\n",
       "      <td>7-2_person-or-small-group-shouting</td>\n",
       "      <td>7_human-voice</td>\n",
       "    </tr>\n",
       "    <tr>\n",
       "      <th>25</th>\n",
       "      <td>7</td>\n",
       "      <td>3</td>\n",
       "      <td>7-3_large-crowd</td>\n",
       "      <td>7_human-voice</td>\n",
       "    </tr>\n",
       "    <tr>\n",
       "      <th>26</th>\n",
       "      <td>7</td>\n",
       "      <td>4</td>\n",
       "      <td>7-4_amplified-speech</td>\n",
       "      <td>7_human-voice</td>\n",
       "    </tr>\n",
       "    <tr>\n",
       "      <th>27</th>\n",
       "      <td>7</td>\n",
       "      <td>X</td>\n",
       "      <td>7-X_other-unknown-human-voice</td>\n",
       "      <td>7_human-voice</td>\n",
       "    </tr>\n",
       "    <tr>\n",
       "      <th>28</th>\n",
       "      <td>8</td>\n",
       "      <td>1</td>\n",
       "      <td>8-1_dog-barking-whining</td>\n",
       "      <td>8_dog</td>\n",
       "    </tr>\n",
       "  </tbody>\n",
       "</table>\n",
       "</div>"
      ],
      "text/plain": [
       "   coarse_id fine_id                                fine  \\\n",
       "0          1       1           1-1_small-sounding-engine   \n",
       "1          1       2          1-2_medium-sounding-engine   \n",
       "2          1       3           1-3_large-sounding-engine   \n",
       "3          1       X        1-X_engine-of-uncertain-size   \n",
       "4          2       1                      2-1_rock-drill   \n",
       "5          2       2                      2-2_jackhammer   \n",
       "6          2       3                         2-3_hoe-ram   \n",
       "7          2       4                     2-4_pile-driver   \n",
       "8          2       X  2-X_other-unknown-impact-machinery   \n",
       "9          3       1            3-1_non-machinery-impact   \n",
       "10         4       1                        4-1_chainsaw   \n",
       "11         4       2       4-2_small-medium-rotating-saw   \n",
       "12         4       3              4-3_large-rotating-saw   \n",
       "13         4       X       4-X_other-unknown-powered-saw   \n",
       "14         5       1                        5-1_car-horn   \n",
       "15         5       2                       5-2_car-alarm   \n",
       "16         5       3                           5-3_siren   \n",
       "17         5       4                  5-4_reverse-beeper   \n",
       "18         5       X      5-X_other-unknown-alert-signal   \n",
       "19         6       1                6-1_stationary-music   \n",
       "20         6       2                    6-2_mobile-music   \n",
       "21         6       3                 6-3_ice-cream-truck   \n",
       "22         6       X     6-X_music-from-uncertain-source   \n",
       "23         7       1   7-1_person-or-small-group-talking   \n",
       "24         7       2  7-2_person-or-small-group-shouting   \n",
       "25         7       3                     7-3_large-crowd   \n",
       "26         7       4                7-4_amplified-speech   \n",
       "27         7       X       7-X_other-unknown-human-voice   \n",
       "28         8       1             8-1_dog-barking-whining   \n",
       "\n",
       "                    coarse  \n",
       "0                 1_engine  \n",
       "1                 1_engine  \n",
       "2                 1_engine  \n",
       "3                 1_engine  \n",
       "4       2_machinery-impact  \n",
       "5       2_machinery-impact  \n",
       "6       2_machinery-impact  \n",
       "7       2_machinery-impact  \n",
       "8       2_machinery-impact  \n",
       "9   3_non-machinery-impact  \n",
       "10           4_powered-saw  \n",
       "11           4_powered-saw  \n",
       "12           4_powered-saw  \n",
       "13           4_powered-saw  \n",
       "14          5_alert-signal  \n",
       "15          5_alert-signal  \n",
       "16          5_alert-signal  \n",
       "17          5_alert-signal  \n",
       "18          5_alert-signal  \n",
       "19                 6_music  \n",
       "20                 6_music  \n",
       "21                 6_music  \n",
       "22                 6_music  \n",
       "23           7_human-voice  \n",
       "24           7_human-voice  \n",
       "25           7_human-voice  \n",
       "26           7_human-voice  \n",
       "27           7_human-voice  \n",
       "28                   8_dog  "
      ]
     },
     "execution_count": 22,
     "metadata": {},
     "output_type": "execute_result"
    }
   ],
   "source": [
    "taxonomy_df"
   ]
  },
  {
   "cell_type": "markdown",
   "metadata": {},
   "source": [
    "# Separate train and valid data, only zooniverse platform"
   ]
  },
  {
   "cell_type": "code",
   "execution_count": 23,
   "metadata": {},
   "outputs": [],
   "source": [
    "train_data = (annotation_data.copy()\n",
    "              .loc[lambda x: x.split == 'train']\n",
    "              .loc[lambda x: x.annotator_id > 0]\n",
    "              .set_index('audio_filename')\n",
    "              .filter(regex='.*_presence$', axis='columns')\n",
    "              .rename(columns=lambda x: x[:-9])\n",
    "              .astype('int64'))"
   ]
  },
  {
   "cell_type": "code",
   "execution_count": 24,
   "metadata": {},
   "outputs": [
    {
     "data": {
      "text/plain": [
       "3    13538\n",
       "Name: cnt, dtype: int64"
      ]
     },
     "execution_count": 24,
     "metadata": {},
     "output_type": "execute_result"
    }
   ],
   "source": [
    "(train_data.reset_index()\n",
    " .assign(cnt=1).groupby('audio_filename')['cnt'].sum()\n",
    " .value_counts()\n",
    ")"
   ]
  },
  {
   "cell_type": "code",
   "execution_count": 25,
   "metadata": {},
   "outputs": [],
   "source": [
    "coarse_train = train_data.loc[:, sorted(taxonomy_df.coarse.unique())]\n",
    "fine_train = train_data.loc[:, sorted(taxonomy_df.fine.tolist())]"
   ]
  },
  {
   "cell_type": "code",
   "execution_count": 26,
   "metadata": {},
   "outputs": [
    {
     "data": {
      "text/plain": [
       "((40614, 8), (40614, 29), 13538)"
      ]
     },
     "execution_count": 26,
     "metadata": {},
     "output_type": "execute_result"
    }
   ],
   "source": [
    "coarse_train.shape, fine_train.shape, len(set(coarse_train.index.tolist()))"
   ]
  },
  {
   "cell_type": "markdown",
   "metadata": {},
   "source": [
    "---"
   ]
  },
  {
   "cell_type": "code",
   "execution_count": 27,
   "metadata": {},
   "outputs": [],
   "source": [
    "valid_data = (annotation_data.copy()\n",
    "              .loc[lambda x: x.split == 'validate']\n",
    "              .loc[lambda x: x.annotator_id > 0]\n",
    "              .set_index('audio_filename')\n",
    "              .filter(regex='.*_presence$', axis='columns')\n",
    "              .rename(columns=lambda x: x[:-9])\n",
    "              .astype('int64'))"
   ]
  },
  {
   "cell_type": "code",
   "execution_count": 28,
   "metadata": {},
   "outputs": [
    {
     "data": {
      "text/plain": [
       "3    4308\n",
       "Name: cnt, dtype: int64"
      ]
     },
     "execution_count": 28,
     "metadata": {},
     "output_type": "execute_result"
    }
   ],
   "source": [
    "(valid_data.reset_index()\n",
    " .assign(cnt=1).groupby('audio_filename')['cnt'].sum()\n",
    " .value_counts()\n",
    ")"
   ]
  },
  {
   "cell_type": "code",
   "execution_count": 29,
   "metadata": {},
   "outputs": [],
   "source": [
    "coarse_valid = valid_data.loc[:, sorted(taxonomy_df.coarse.unique())]\n",
    "fine_valid = valid_data.loc[:, sorted(taxonomy_df.fine.tolist())]"
   ]
  },
  {
   "cell_type": "code",
   "execution_count": 30,
   "metadata": {},
   "outputs": [
    {
     "data": {
      "text/plain": [
       "((12924, 8), (12924, 29), 4308)"
      ]
     },
     "execution_count": 30,
     "metadata": {},
     "output_type": "execute_result"
    }
   ],
   "source": [
    "coarse_valid.shape, fine_valid.shape, len(set(fine_valid.index.tolist()))"
   ]
  },
  {
   "cell_type": "code",
   "execution_count": 31,
   "metadata": {},
   "outputs": [],
   "source": [
    "coarse_train.sort_index(inplace=True)\n",
    "coarse_valid.sort_index(inplace=True)\n",
    "fine_train.sort_index(inplace=True)\n",
    "fine_valid.sort_index(inplace=True)"
   ]
  },
  {
   "cell_type": "code",
   "execution_count": 32,
   "metadata": {},
   "outputs": [
    {
     "data": {
      "text/html": [
       "<div>\n",
       "<style scoped>\n",
       "    .dataframe tbody tr th:only-of-type {\n",
       "        vertical-align: middle;\n",
       "    }\n",
       "\n",
       "    .dataframe tbody tr th {\n",
       "        vertical-align: top;\n",
       "    }\n",
       "\n",
       "    .dataframe thead th {\n",
       "        text-align: right;\n",
       "    }\n",
       "</style>\n",
       "<table border=\"1\" class=\"dataframe\">\n",
       "  <thead>\n",
       "    <tr style=\"text-align: right;\">\n",
       "      <th></th>\n",
       "      <th>1_engine</th>\n",
       "      <th>2_machinery-impact</th>\n",
       "      <th>3_non-machinery-impact</th>\n",
       "      <th>4_powered-saw</th>\n",
       "      <th>5_alert-signal</th>\n",
       "      <th>6_music</th>\n",
       "      <th>7_human-voice</th>\n",
       "      <th>8_dog</th>\n",
       "    </tr>\n",
       "    <tr>\n",
       "      <th>audio_filename</th>\n",
       "      <th></th>\n",
       "      <th></th>\n",
       "      <th></th>\n",
       "      <th></th>\n",
       "      <th></th>\n",
       "      <th></th>\n",
       "      <th></th>\n",
       "      <th></th>\n",
       "    </tr>\n",
       "  </thead>\n",
       "  <tbody>\n",
       "    <tr>\n",
       "      <th>01_000006.wav</th>\n",
       "      <td>0</td>\n",
       "      <td>0</td>\n",
       "      <td>0</td>\n",
       "      <td>0</td>\n",
       "      <td>0</td>\n",
       "      <td>0</td>\n",
       "      <td>0</td>\n",
       "      <td>0</td>\n",
       "    </tr>\n",
       "    <tr>\n",
       "      <th>01_000006.wav</th>\n",
       "      <td>0</td>\n",
       "      <td>0</td>\n",
       "      <td>0</td>\n",
       "      <td>0</td>\n",
       "      <td>0</td>\n",
       "      <td>0</td>\n",
       "      <td>0</td>\n",
       "      <td>1</td>\n",
       "    </tr>\n",
       "  </tbody>\n",
       "</table>\n",
       "</div>"
      ],
      "text/plain": [
       "                1_engine  2_machinery-impact  3_non-machinery-impact  \\\n",
       "audio_filename                                                         \n",
       "01_000006.wav          0                   0                       0   \n",
       "01_000006.wav          0                   0                       0   \n",
       "\n",
       "                4_powered-saw  5_alert-signal  6_music  7_human-voice  8_dog  \n",
       "audio_filename                                                                \n",
       "01_000006.wav               0               0        0              0      0  \n",
       "01_000006.wav               0               0        0              0      1  "
      ]
     },
     "execution_count": 32,
     "metadata": {},
     "output_type": "execute_result"
    },
    {
     "data": {
      "text/html": [
       "<div>\n",
       "<style scoped>\n",
       "    .dataframe tbody tr th:only-of-type {\n",
       "        vertical-align: middle;\n",
       "    }\n",
       "\n",
       "    .dataframe tbody tr th {\n",
       "        vertical-align: top;\n",
       "    }\n",
       "\n",
       "    .dataframe thead th {\n",
       "        text-align: right;\n",
       "    }\n",
       "</style>\n",
       "<table border=\"1\" class=\"dataframe\">\n",
       "  <thead>\n",
       "    <tr style=\"text-align: right;\">\n",
       "      <th></th>\n",
       "      <th>1_engine</th>\n",
       "      <th>2_machinery-impact</th>\n",
       "      <th>3_non-machinery-impact</th>\n",
       "      <th>4_powered-saw</th>\n",
       "      <th>5_alert-signal</th>\n",
       "      <th>6_music</th>\n",
       "      <th>7_human-voice</th>\n",
       "      <th>8_dog</th>\n",
       "    </tr>\n",
       "    <tr>\n",
       "      <th>audio_filename</th>\n",
       "      <th></th>\n",
       "      <th></th>\n",
       "      <th></th>\n",
       "      <th></th>\n",
       "      <th></th>\n",
       "      <th></th>\n",
       "      <th></th>\n",
       "      <th></th>\n",
       "    </tr>\n",
       "  </thead>\n",
       "  <tbody>\n",
       "    <tr>\n",
       "      <th>00_000066.wav</th>\n",
       "      <td>1</td>\n",
       "      <td>0</td>\n",
       "      <td>0</td>\n",
       "      <td>0</td>\n",
       "      <td>0</td>\n",
       "      <td>0</td>\n",
       "      <td>0</td>\n",
       "      <td>0</td>\n",
       "    </tr>\n",
       "    <tr>\n",
       "      <th>00_000066.wav</th>\n",
       "      <td>1</td>\n",
       "      <td>0</td>\n",
       "      <td>0</td>\n",
       "      <td>0</td>\n",
       "      <td>0</td>\n",
       "      <td>0</td>\n",
       "      <td>0</td>\n",
       "      <td>0</td>\n",
       "    </tr>\n",
       "  </tbody>\n",
       "</table>\n",
       "</div>"
      ],
      "text/plain": [
       "                1_engine  2_machinery-impact  3_non-machinery-impact  \\\n",
       "audio_filename                                                         \n",
       "00_000066.wav          1                   0                       0   \n",
       "00_000066.wav          1                   0                       0   \n",
       "\n",
       "                4_powered-saw  5_alert-signal  6_music  7_human-voice  8_dog  \n",
       "audio_filename                                                                \n",
       "00_000066.wav               0               0        0              0      0  \n",
       "00_000066.wav               0               0        0              0      0  "
      ]
     },
     "execution_count": 32,
     "metadata": {},
     "output_type": "execute_result"
    },
    {
     "data": {
      "text/html": [
       "<div>\n",
       "<style scoped>\n",
       "    .dataframe tbody tr th:only-of-type {\n",
       "        vertical-align: middle;\n",
       "    }\n",
       "\n",
       "    .dataframe tbody tr th {\n",
       "        vertical-align: top;\n",
       "    }\n",
       "\n",
       "    .dataframe thead th {\n",
       "        text-align: right;\n",
       "    }\n",
       "</style>\n",
       "<table border=\"1\" class=\"dataframe\">\n",
       "  <thead>\n",
       "    <tr style=\"text-align: right;\">\n",
       "      <th></th>\n",
       "      <th>1-1_small-sounding-engine</th>\n",
       "      <th>1-2_medium-sounding-engine</th>\n",
       "      <th>1-3_large-sounding-engine</th>\n",
       "      <th>1-X_engine-of-uncertain-size</th>\n",
       "      <th>2-1_rock-drill</th>\n",
       "      <th>2-2_jackhammer</th>\n",
       "      <th>2-3_hoe-ram</th>\n",
       "      <th>2-4_pile-driver</th>\n",
       "      <th>2-X_other-unknown-impact-machinery</th>\n",
       "      <th>3-1_non-machinery-impact</th>\n",
       "      <th>...</th>\n",
       "      <th>6-1_stationary-music</th>\n",
       "      <th>6-2_mobile-music</th>\n",
       "      <th>6-3_ice-cream-truck</th>\n",
       "      <th>6-X_music-from-uncertain-source</th>\n",
       "      <th>7-1_person-or-small-group-talking</th>\n",
       "      <th>7-2_person-or-small-group-shouting</th>\n",
       "      <th>7-3_large-crowd</th>\n",
       "      <th>7-4_amplified-speech</th>\n",
       "      <th>7-X_other-unknown-human-voice</th>\n",
       "      <th>8-1_dog-barking-whining</th>\n",
       "    </tr>\n",
       "    <tr>\n",
       "      <th>audio_filename</th>\n",
       "      <th></th>\n",
       "      <th></th>\n",
       "      <th></th>\n",
       "      <th></th>\n",
       "      <th></th>\n",
       "      <th></th>\n",
       "      <th></th>\n",
       "      <th></th>\n",
       "      <th></th>\n",
       "      <th></th>\n",
       "      <th></th>\n",
       "      <th></th>\n",
       "      <th></th>\n",
       "      <th></th>\n",
       "      <th></th>\n",
       "      <th></th>\n",
       "      <th></th>\n",
       "      <th></th>\n",
       "      <th></th>\n",
       "      <th></th>\n",
       "      <th></th>\n",
       "    </tr>\n",
       "  </thead>\n",
       "  <tbody>\n",
       "    <tr>\n",
       "      <th>01_000006.wav</th>\n",
       "      <td>0</td>\n",
       "      <td>0</td>\n",
       "      <td>0</td>\n",
       "      <td>0</td>\n",
       "      <td>0</td>\n",
       "      <td>0</td>\n",
       "      <td>0</td>\n",
       "      <td>0</td>\n",
       "      <td>0</td>\n",
       "      <td>0</td>\n",
       "      <td>...</td>\n",
       "      <td>0</td>\n",
       "      <td>0</td>\n",
       "      <td>0</td>\n",
       "      <td>0</td>\n",
       "      <td>0</td>\n",
       "      <td>0</td>\n",
       "      <td>0</td>\n",
       "      <td>0</td>\n",
       "      <td>0</td>\n",
       "      <td>0</td>\n",
       "    </tr>\n",
       "    <tr>\n",
       "      <th>01_000006.wav</th>\n",
       "      <td>0</td>\n",
       "      <td>0</td>\n",
       "      <td>0</td>\n",
       "      <td>0</td>\n",
       "      <td>0</td>\n",
       "      <td>0</td>\n",
       "      <td>0</td>\n",
       "      <td>0</td>\n",
       "      <td>0</td>\n",
       "      <td>0</td>\n",
       "      <td>...</td>\n",
       "      <td>0</td>\n",
       "      <td>0</td>\n",
       "      <td>0</td>\n",
       "      <td>0</td>\n",
       "      <td>0</td>\n",
       "      <td>0</td>\n",
       "      <td>0</td>\n",
       "      <td>0</td>\n",
       "      <td>0</td>\n",
       "      <td>1</td>\n",
       "    </tr>\n",
       "  </tbody>\n",
       "</table>\n",
       "<p>2 rows × 29 columns</p>\n",
       "</div>"
      ],
      "text/plain": [
       "                1-1_small-sounding-engine  1-2_medium-sounding-engine  \\\n",
       "audio_filename                                                          \n",
       "01_000006.wav                           0                           0   \n",
       "01_000006.wav                           0                           0   \n",
       "\n",
       "                1-3_large-sounding-engine  1-X_engine-of-uncertain-size  \\\n",
       "audio_filename                                                            \n",
       "01_000006.wav                           0                             0   \n",
       "01_000006.wav                           0                             0   \n",
       "\n",
       "                2-1_rock-drill  2-2_jackhammer  2-3_hoe-ram  2-4_pile-driver  \\\n",
       "audio_filename                                                                 \n",
       "01_000006.wav                0               0            0                0   \n",
       "01_000006.wav                0               0            0                0   \n",
       "\n",
       "                2-X_other-unknown-impact-machinery  3-1_non-machinery-impact  \\\n",
       "audio_filename                                                                 \n",
       "01_000006.wav                                    0                         0   \n",
       "01_000006.wav                                    0                         0   \n",
       "\n",
       "                ...  6-1_stationary-music  6-2_mobile-music  \\\n",
       "audio_filename  ...                                           \n",
       "01_000006.wav   ...                     0                 0   \n",
       "01_000006.wav   ...                     0                 0   \n",
       "\n",
       "                6-3_ice-cream-truck  6-X_music-from-uncertain-source  \\\n",
       "audio_filename                                                         \n",
       "01_000006.wav                     0                                0   \n",
       "01_000006.wav                     0                                0   \n",
       "\n",
       "                7-1_person-or-small-group-talking  \\\n",
       "audio_filename                                      \n",
       "01_000006.wav                                   0   \n",
       "01_000006.wav                                   0   \n",
       "\n",
       "                7-2_person-or-small-group-shouting  7-3_large-crowd  \\\n",
       "audio_filename                                                        \n",
       "01_000006.wav                                    0                0   \n",
       "01_000006.wav                                    0                0   \n",
       "\n",
       "                7-4_amplified-speech  7-X_other-unknown-human-voice  \\\n",
       "audio_filename                                                        \n",
       "01_000006.wav                      0                              0   \n",
       "01_000006.wav                      0                              0   \n",
       "\n",
       "                8-1_dog-barking-whining  \n",
       "audio_filename                           \n",
       "01_000006.wav                         0  \n",
       "01_000006.wav                         1  \n",
       "\n",
       "[2 rows x 29 columns]"
      ]
     },
     "execution_count": 32,
     "metadata": {},
     "output_type": "execute_result"
    },
    {
     "data": {
      "text/html": [
       "<div>\n",
       "<style scoped>\n",
       "    .dataframe tbody tr th:only-of-type {\n",
       "        vertical-align: middle;\n",
       "    }\n",
       "\n",
       "    .dataframe tbody tr th {\n",
       "        vertical-align: top;\n",
       "    }\n",
       "\n",
       "    .dataframe thead th {\n",
       "        text-align: right;\n",
       "    }\n",
       "</style>\n",
       "<table border=\"1\" class=\"dataframe\">\n",
       "  <thead>\n",
       "    <tr style=\"text-align: right;\">\n",
       "      <th></th>\n",
       "      <th>1-1_small-sounding-engine</th>\n",
       "      <th>1-2_medium-sounding-engine</th>\n",
       "      <th>1-3_large-sounding-engine</th>\n",
       "      <th>1-X_engine-of-uncertain-size</th>\n",
       "      <th>2-1_rock-drill</th>\n",
       "      <th>2-2_jackhammer</th>\n",
       "      <th>2-3_hoe-ram</th>\n",
       "      <th>2-4_pile-driver</th>\n",
       "      <th>2-X_other-unknown-impact-machinery</th>\n",
       "      <th>3-1_non-machinery-impact</th>\n",
       "      <th>...</th>\n",
       "      <th>6-1_stationary-music</th>\n",
       "      <th>6-2_mobile-music</th>\n",
       "      <th>6-3_ice-cream-truck</th>\n",
       "      <th>6-X_music-from-uncertain-source</th>\n",
       "      <th>7-1_person-or-small-group-talking</th>\n",
       "      <th>7-2_person-or-small-group-shouting</th>\n",
       "      <th>7-3_large-crowd</th>\n",
       "      <th>7-4_amplified-speech</th>\n",
       "      <th>7-X_other-unknown-human-voice</th>\n",
       "      <th>8-1_dog-barking-whining</th>\n",
       "    </tr>\n",
       "    <tr>\n",
       "      <th>audio_filename</th>\n",
       "      <th></th>\n",
       "      <th></th>\n",
       "      <th></th>\n",
       "      <th></th>\n",
       "      <th></th>\n",
       "      <th></th>\n",
       "      <th></th>\n",
       "      <th></th>\n",
       "      <th></th>\n",
       "      <th></th>\n",
       "      <th></th>\n",
       "      <th></th>\n",
       "      <th></th>\n",
       "      <th></th>\n",
       "      <th></th>\n",
       "      <th></th>\n",
       "      <th></th>\n",
       "      <th></th>\n",
       "      <th></th>\n",
       "      <th></th>\n",
       "      <th></th>\n",
       "    </tr>\n",
       "  </thead>\n",
       "  <tbody>\n",
       "    <tr>\n",
       "      <th>00_000066.wav</th>\n",
       "      <td>1</td>\n",
       "      <td>0</td>\n",
       "      <td>0</td>\n",
       "      <td>0</td>\n",
       "      <td>0</td>\n",
       "      <td>0</td>\n",
       "      <td>0</td>\n",
       "      <td>0</td>\n",
       "      <td>0</td>\n",
       "      <td>0</td>\n",
       "      <td>...</td>\n",
       "      <td>0</td>\n",
       "      <td>0</td>\n",
       "      <td>0</td>\n",
       "      <td>0</td>\n",
       "      <td>0</td>\n",
       "      <td>0</td>\n",
       "      <td>0</td>\n",
       "      <td>0</td>\n",
       "      <td>0</td>\n",
       "      <td>0</td>\n",
       "    </tr>\n",
       "    <tr>\n",
       "      <th>00_000066.wav</th>\n",
       "      <td>0</td>\n",
       "      <td>0</td>\n",
       "      <td>1</td>\n",
       "      <td>0</td>\n",
       "      <td>0</td>\n",
       "      <td>0</td>\n",
       "      <td>0</td>\n",
       "      <td>0</td>\n",
       "      <td>0</td>\n",
       "      <td>0</td>\n",
       "      <td>...</td>\n",
       "      <td>0</td>\n",
       "      <td>0</td>\n",
       "      <td>0</td>\n",
       "      <td>0</td>\n",
       "      <td>0</td>\n",
       "      <td>0</td>\n",
       "      <td>0</td>\n",
       "      <td>0</td>\n",
       "      <td>0</td>\n",
       "      <td>0</td>\n",
       "    </tr>\n",
       "  </tbody>\n",
       "</table>\n",
       "<p>2 rows × 29 columns</p>\n",
       "</div>"
      ],
      "text/plain": [
       "                1-1_small-sounding-engine  1-2_medium-sounding-engine  \\\n",
       "audio_filename                                                          \n",
       "00_000066.wav                           1                           0   \n",
       "00_000066.wav                           0                           0   \n",
       "\n",
       "                1-3_large-sounding-engine  1-X_engine-of-uncertain-size  \\\n",
       "audio_filename                                                            \n",
       "00_000066.wav                           0                             0   \n",
       "00_000066.wav                           1                             0   \n",
       "\n",
       "                2-1_rock-drill  2-2_jackhammer  2-3_hoe-ram  2-4_pile-driver  \\\n",
       "audio_filename                                                                 \n",
       "00_000066.wav                0               0            0                0   \n",
       "00_000066.wav                0               0            0                0   \n",
       "\n",
       "                2-X_other-unknown-impact-machinery  3-1_non-machinery-impact  \\\n",
       "audio_filename                                                                 \n",
       "00_000066.wav                                    0                         0   \n",
       "00_000066.wav                                    0                         0   \n",
       "\n",
       "                ...  6-1_stationary-music  6-2_mobile-music  \\\n",
       "audio_filename  ...                                           \n",
       "00_000066.wav   ...                     0                 0   \n",
       "00_000066.wav   ...                     0                 0   \n",
       "\n",
       "                6-3_ice-cream-truck  6-X_music-from-uncertain-source  \\\n",
       "audio_filename                                                         \n",
       "00_000066.wav                     0                                0   \n",
       "00_000066.wav                     0                                0   \n",
       "\n",
       "                7-1_person-or-small-group-talking  \\\n",
       "audio_filename                                      \n",
       "00_000066.wav                                   0   \n",
       "00_000066.wav                                   0   \n",
       "\n",
       "                7-2_person-or-small-group-shouting  7-3_large-crowd  \\\n",
       "audio_filename                                                        \n",
       "00_000066.wav                                    0                0   \n",
       "00_000066.wav                                    0                0   \n",
       "\n",
       "                7-4_amplified-speech  7-X_other-unknown-human-voice  \\\n",
       "audio_filename                                                        \n",
       "00_000066.wav                      0                              0   \n",
       "00_000066.wav                      0                              0   \n",
       "\n",
       "                8-1_dog-barking-whining  \n",
       "audio_filename                           \n",
       "00_000066.wav                         0  \n",
       "00_000066.wav                         0  \n",
       "\n",
       "[2 rows x 29 columns]"
      ]
     },
     "execution_count": 32,
     "metadata": {},
     "output_type": "execute_result"
    }
   ],
   "source": [
    "coarse_train.head(2)\n",
    "coarse_valid.head(2)\n",
    "fine_train.head(2)\n",
    "fine_valid.head(2)"
   ]
  },
  {
   "cell_type": "markdown",
   "metadata": {},
   "source": [
    "---"
   ]
  },
  {
   "cell_type": "code",
   "execution_count": 33,
   "metadata": {},
   "outputs": [],
   "source": [
    "metadata_cols = [\n",
    " 'sensor_id',\n",
    " 'audio_filename',\n",
    " 'borough',\n",
    " 'block',\n",
    " 'latitude',\n",
    " 'longitude',\n",
    " 'year',\n",
    " 'week',\n",
    " 'day',\n",
    " 'hour',\n",
    " 'dt',\n",
    " 'date_slno']"
   ]
  },
  {
   "cell_type": "code",
   "execution_count": 34,
   "metadata": {},
   "outputs": [],
   "source": [
    "train_metadata = (annotation_data.copy()\n",
    "                  .loc[lambda x: x.split == 'train']\n",
    "                  .loc[:, metadata_cols]\n",
    "                  .drop_duplicates()\n",
    "                  .set_index('audio_filename'))\n",
    "valid_metadata = (annotation_data.copy()\n",
    "                  .loc[lambda x: x.split == 'validate']\n",
    "                  .loc[:, metadata_cols]\n",
    "                  .drop_duplicates()\n",
    "                  .set_index('audio_filename'))"
   ]
  },
  {
   "cell_type": "code",
   "execution_count": 35,
   "metadata": {},
   "outputs": [
    {
     "data": {
      "text/plain": [
       "((13538, 11), (4308, 11))"
      ]
     },
     "execution_count": 35,
     "metadata": {},
     "output_type": "execute_result"
    }
   ],
   "source": [
    "train_metadata.shape, valid_metadata.shape"
   ]
  },
  {
   "cell_type": "code",
   "execution_count": 36,
   "metadata": {},
   "outputs": [
    {
     "data": {
      "text/html": [
       "<div>\n",
       "<style scoped>\n",
       "    .dataframe tbody tr th:only-of-type {\n",
       "        vertical-align: middle;\n",
       "    }\n",
       "\n",
       "    .dataframe tbody tr th {\n",
       "        vertical-align: top;\n",
       "    }\n",
       "\n",
       "    .dataframe thead th {\n",
       "        text-align: right;\n",
       "    }\n",
       "</style>\n",
       "<table border=\"1\" class=\"dataframe\">\n",
       "  <thead>\n",
       "    <tr style=\"text-align: right;\">\n",
       "      <th></th>\n",
       "      <th>sensor_id</th>\n",
       "      <th>borough</th>\n",
       "      <th>block</th>\n",
       "      <th>latitude</th>\n",
       "      <th>longitude</th>\n",
       "      <th>year</th>\n",
       "      <th>week</th>\n",
       "      <th>day</th>\n",
       "      <th>hour</th>\n",
       "      <th>dt</th>\n",
       "      <th>date_slno</th>\n",
       "    </tr>\n",
       "    <tr>\n",
       "      <th>audio_filename</th>\n",
       "      <th></th>\n",
       "      <th></th>\n",
       "      <th></th>\n",
       "      <th></th>\n",
       "      <th></th>\n",
       "      <th></th>\n",
       "      <th></th>\n",
       "      <th></th>\n",
       "      <th></th>\n",
       "      <th></th>\n",
       "      <th></th>\n",
       "    </tr>\n",
       "  </thead>\n",
       "  <tbody>\n",
       "    <tr>\n",
       "      <th>01_000006.wav</th>\n",
       "      <td>1</td>\n",
       "      <td>1</td>\n",
       "      <td>541</td>\n",
       "      <td>40.73033</td>\n",
       "      <td>-73.9987</td>\n",
       "      <td>2017</td>\n",
       "      <td>17</td>\n",
       "      <td>0</td>\n",
       "      <td>10</td>\n",
       "      <td>2017-04-24</td>\n",
       "      <td>352</td>\n",
       "    </tr>\n",
       "    <tr>\n",
       "      <th>01_000038.wav</th>\n",
       "      <td>1</td>\n",
       "      <td>1</td>\n",
       "      <td>541</td>\n",
       "      <td>40.73033</td>\n",
       "      <td>-73.9987</td>\n",
       "      <td>2017</td>\n",
       "      <td>21</td>\n",
       "      <td>2</td>\n",
       "      <td>17</td>\n",
       "      <td>2017-05-24</td>\n",
       "      <td>382</td>\n",
       "    </tr>\n",
       "  </tbody>\n",
       "</table>\n",
       "</div>"
      ],
      "text/plain": [
       "                sensor_id  borough  block  latitude  longitude  year  week  \\\n",
       "audio_filename                                                               \n",
       "01_000006.wav           1        1    541  40.73033   -73.9987  2017    17   \n",
       "01_000038.wav           1        1    541  40.73033   -73.9987  2017    21   \n",
       "\n",
       "                day  hour         dt  date_slno  \n",
       "audio_filename                                   \n",
       "01_000006.wav     0    10 2017-04-24        352  \n",
       "01_000038.wav     2    17 2017-05-24        382  "
      ]
     },
     "execution_count": 36,
     "metadata": {},
     "output_type": "execute_result"
    },
    {
     "data": {
      "text/html": [
       "<div>\n",
       "<style scoped>\n",
       "    .dataframe tbody tr th:only-of-type {\n",
       "        vertical-align: middle;\n",
       "    }\n",
       "\n",
       "    .dataframe tbody tr th {\n",
       "        vertical-align: top;\n",
       "    }\n",
       "\n",
       "    .dataframe thead th {\n",
       "        text-align: right;\n",
       "    }\n",
       "</style>\n",
       "<table border=\"1\" class=\"dataframe\">\n",
       "  <thead>\n",
       "    <tr style=\"text-align: right;\">\n",
       "      <th></th>\n",
       "      <th>sensor_id</th>\n",
       "      <th>borough</th>\n",
       "      <th>block</th>\n",
       "      <th>latitude</th>\n",
       "      <th>longitude</th>\n",
       "      <th>year</th>\n",
       "      <th>week</th>\n",
       "      <th>day</th>\n",
       "      <th>hour</th>\n",
       "      <th>dt</th>\n",
       "      <th>date_slno</th>\n",
       "    </tr>\n",
       "    <tr>\n",
       "      <th>audio_filename</th>\n",
       "      <th></th>\n",
       "      <th></th>\n",
       "      <th></th>\n",
       "      <th></th>\n",
       "      <th></th>\n",
       "      <th></th>\n",
       "      <th></th>\n",
       "      <th></th>\n",
       "      <th></th>\n",
       "      <th></th>\n",
       "      <th></th>\n",
       "    </tr>\n",
       "  </thead>\n",
       "  <tbody>\n",
       "    <tr>\n",
       "      <th>00_000066.wav</th>\n",
       "      <td>0</td>\n",
       "      <td>1</td>\n",
       "      <td>547</td>\n",
       "      <td>40.72951</td>\n",
       "      <td>-73.99388</td>\n",
       "      <td>2017</td>\n",
       "      <td>28</td>\n",
       "      <td>2</td>\n",
       "      <td>0</td>\n",
       "      <td>2017-07-12</td>\n",
       "      <td>431</td>\n",
       "    </tr>\n",
       "    <tr>\n",
       "      <th>00_000071.wav</th>\n",
       "      <td>0</td>\n",
       "      <td>1</td>\n",
       "      <td>547</td>\n",
       "      <td>40.72951</td>\n",
       "      <td>-73.99388</td>\n",
       "      <td>2016</td>\n",
       "      <td>50</td>\n",
       "      <td>5</td>\n",
       "      <td>13</td>\n",
       "      <td>2016-12-17</td>\n",
       "      <td>224</td>\n",
       "    </tr>\n",
       "  </tbody>\n",
       "</table>\n",
       "</div>"
      ],
      "text/plain": [
       "                sensor_id  borough  block  latitude  longitude  year  week  \\\n",
       "audio_filename                                                               \n",
       "00_000066.wav           0        1    547  40.72951  -73.99388  2017    28   \n",
       "00_000071.wav           0        1    547  40.72951  -73.99388  2016    50   \n",
       "\n",
       "                day  hour         dt  date_slno  \n",
       "audio_filename                                   \n",
       "00_000066.wav     2     0 2017-07-12        431  \n",
       "00_000071.wav     5    13 2016-12-17        224  "
      ]
     },
     "execution_count": 36,
     "metadata": {},
     "output_type": "execute_result"
    }
   ],
   "source": [
    "train_metadata.head(2)\n",
    "valid_metadata.head(2)"
   ]
  },
  {
   "cell_type": "markdown",
   "metadata": {},
   "source": [
    "# Separate train and valid data, only ground truth"
   ]
  },
  {
   "cell_type": "code",
   "execution_count": 37,
   "metadata": {},
   "outputs": [],
   "source": [
    "train_data_gt = (annotation_data.copy()\n",
    "                 .loc[lambda x: x.split == 'train']\n",
    "                 .loc[lambda x: x.annotator_id == 0]\n",
    "                 .set_index('audio_filename')\n",
    "                 .filter(regex='.*_presence$', axis='columns')\n",
    "                 .rename(columns=lambda x: x[:-9])\n",
    "                 .astype('int64'))"
   ]
  },
  {
   "cell_type": "code",
   "execution_count": 38,
   "metadata": {},
   "outputs": [
    {
     "data": {
      "text/plain": [
       "1    178\n",
       "Name: cnt, dtype: int64"
      ]
     },
     "execution_count": 38,
     "metadata": {},
     "output_type": "execute_result"
    }
   ],
   "source": [
    "(train_data_gt.reset_index()\n",
    " .assign(cnt=1).groupby('audio_filename')['cnt'].sum()\n",
    " .value_counts()\n",
    ")"
   ]
  },
  {
   "cell_type": "code",
   "execution_count": 39,
   "metadata": {},
   "outputs": [],
   "source": [
    "coarse_train_gt = train_data_gt.loc[:, sorted(taxonomy_df.coarse.unique())]\n",
    "fine_train_gt = train_data_gt.loc[:, sorted(taxonomy_df.fine.tolist())]"
   ]
  },
  {
   "cell_type": "code",
   "execution_count": 40,
   "metadata": {},
   "outputs": [
    {
     "data": {
      "text/plain": [
       "((178, 8), (178, 29), 178)"
      ]
     },
     "execution_count": 40,
     "metadata": {},
     "output_type": "execute_result"
    }
   ],
   "source": [
    "coarse_train_gt.shape, fine_train_gt.shape, len(set(coarse_train_gt.index.tolist()))"
   ]
  },
  {
   "cell_type": "code",
   "execution_count": 41,
   "metadata": {},
   "outputs": [],
   "source": [
    "valid_data_gt = (annotation_data.copy()\n",
    "                 .loc[lambda x: x.split == 'validate']\n",
    "                 .loc[lambda x: x.annotator_id == 0]\n",
    "                 .set_index('audio_filename')\n",
    "                 .filter(regex='.*_presence$', axis='columns')\n",
    "                 .rename(columns=lambda x: x[:-9])\n",
    "                 .astype('int64'))"
   ]
  },
  {
   "cell_type": "code",
   "execution_count": 42,
   "metadata": {},
   "outputs": [
    {
     "data": {
      "text/plain": [
       "1    538\n",
       "Name: cnt, dtype: int64"
      ]
     },
     "execution_count": 42,
     "metadata": {},
     "output_type": "execute_result"
    }
   ],
   "source": [
    "(valid_data_gt.reset_index()\n",
    " .assign(cnt=1).groupby('audio_filename')['cnt'].sum()\n",
    " .value_counts()\n",
    ")"
   ]
  },
  {
   "cell_type": "code",
   "execution_count": 43,
   "metadata": {},
   "outputs": [],
   "source": [
    "coarse_valid_gt = valid_data_gt.loc[:, sorted(taxonomy_df.coarse.unique())]\n",
    "fine_valid_gt = valid_data_gt.loc[:, sorted(taxonomy_df.fine.tolist())]"
   ]
  },
  {
   "cell_type": "code",
   "execution_count": 44,
   "metadata": {},
   "outputs": [
    {
     "data": {
      "text/plain": [
       "((538, 8), (538, 29), 538)"
      ]
     },
     "execution_count": 44,
     "metadata": {},
     "output_type": "execute_result"
    }
   ],
   "source": [
    "coarse_valid_gt.shape, fine_valid_gt.shape, len(set(coarse_valid_gt.index.tolist()))"
   ]
  },
  {
   "cell_type": "code",
   "execution_count": 45,
   "metadata": {},
   "outputs": [],
   "source": [
    "coarse_train_gt.sort_index(inplace=True)\n",
    "coarse_valid_gt.sort_index(inplace=True)\n",
    "fine_train_gt.sort_index(inplace=True)\n",
    "fine_valid_gt.sort_index(inplace=True)"
   ]
  },
  {
   "cell_type": "code",
   "execution_count": 46,
   "metadata": {},
   "outputs": [
    {
     "data": {
      "text/html": [
       "<div>\n",
       "<style scoped>\n",
       "    .dataframe tbody tr th:only-of-type {\n",
       "        vertical-align: middle;\n",
       "    }\n",
       "\n",
       "    .dataframe tbody tr th {\n",
       "        vertical-align: top;\n",
       "    }\n",
       "\n",
       "    .dataframe thead th {\n",
       "        text-align: right;\n",
       "    }\n",
       "</style>\n",
       "<table border=\"1\" class=\"dataframe\">\n",
       "  <thead>\n",
       "    <tr style=\"text-align: right;\">\n",
       "      <th></th>\n",
       "      <th>1_engine</th>\n",
       "      <th>2_machinery-impact</th>\n",
       "      <th>3_non-machinery-impact</th>\n",
       "      <th>4_powered-saw</th>\n",
       "      <th>5_alert-signal</th>\n",
       "      <th>6_music</th>\n",
       "      <th>7_human-voice</th>\n",
       "      <th>8_dog</th>\n",
       "    </tr>\n",
       "    <tr>\n",
       "      <th>audio_filename</th>\n",
       "      <th></th>\n",
       "      <th></th>\n",
       "      <th></th>\n",
       "      <th></th>\n",
       "      <th></th>\n",
       "      <th></th>\n",
       "      <th></th>\n",
       "      <th></th>\n",
       "    </tr>\n",
       "  </thead>\n",
       "  <tbody>\n",
       "    <tr>\n",
       "      <th>01_010234.wav</th>\n",
       "      <td>0</td>\n",
       "      <td>0</td>\n",
       "      <td>0</td>\n",
       "      <td>0</td>\n",
       "      <td>0</td>\n",
       "      <td>0</td>\n",
       "      <td>0</td>\n",
       "      <td>1</td>\n",
       "    </tr>\n",
       "    <tr>\n",
       "      <th>01_010270.wav</th>\n",
       "      <td>0</td>\n",
       "      <td>0</td>\n",
       "      <td>0</td>\n",
       "      <td>0</td>\n",
       "      <td>0</td>\n",
       "      <td>0</td>\n",
       "      <td>0</td>\n",
       "      <td>1</td>\n",
       "    </tr>\n",
       "  </tbody>\n",
       "</table>\n",
       "</div>"
      ],
      "text/plain": [
       "                1_engine  2_machinery-impact  3_non-machinery-impact  \\\n",
       "audio_filename                                                         \n",
       "01_010234.wav          0                   0                       0   \n",
       "01_010270.wav          0                   0                       0   \n",
       "\n",
       "                4_powered-saw  5_alert-signal  6_music  7_human-voice  8_dog  \n",
       "audio_filename                                                                \n",
       "01_010234.wav               0               0        0              0      1  \n",
       "01_010270.wav               0               0        0              0      1  "
      ]
     },
     "execution_count": 46,
     "metadata": {},
     "output_type": "execute_result"
    },
    {
     "data": {
      "text/html": [
       "<div>\n",
       "<style scoped>\n",
       "    .dataframe tbody tr th:only-of-type {\n",
       "        vertical-align: middle;\n",
       "    }\n",
       "\n",
       "    .dataframe tbody tr th {\n",
       "        vertical-align: top;\n",
       "    }\n",
       "\n",
       "    .dataframe thead th {\n",
       "        text-align: right;\n",
       "    }\n",
       "</style>\n",
       "<table border=\"1\" class=\"dataframe\">\n",
       "  <thead>\n",
       "    <tr style=\"text-align: right;\">\n",
       "      <th></th>\n",
       "      <th>1_engine</th>\n",
       "      <th>2_machinery-impact</th>\n",
       "      <th>3_non-machinery-impact</th>\n",
       "      <th>4_powered-saw</th>\n",
       "      <th>5_alert-signal</th>\n",
       "      <th>6_music</th>\n",
       "      <th>7_human-voice</th>\n",
       "      <th>8_dog</th>\n",
       "    </tr>\n",
       "    <tr>\n",
       "      <th>audio_filename</th>\n",
       "      <th></th>\n",
       "      <th></th>\n",
       "      <th></th>\n",
       "      <th></th>\n",
       "      <th></th>\n",
       "      <th></th>\n",
       "      <th></th>\n",
       "      <th></th>\n",
       "    </tr>\n",
       "  </thead>\n",
       "  <tbody>\n",
       "    <tr>\n",
       "      <th>00_000066.wav</th>\n",
       "      <td>1</td>\n",
       "      <td>0</td>\n",
       "      <td>0</td>\n",
       "      <td>0</td>\n",
       "      <td>0</td>\n",
       "      <td>0</td>\n",
       "      <td>0</td>\n",
       "      <td>0</td>\n",
       "    </tr>\n",
       "    <tr>\n",
       "      <th>00_000118.wav</th>\n",
       "      <td>1</td>\n",
       "      <td>0</td>\n",
       "      <td>0</td>\n",
       "      <td>0</td>\n",
       "      <td>0</td>\n",
       "      <td>0</td>\n",
       "      <td>1</td>\n",
       "      <td>0</td>\n",
       "    </tr>\n",
       "  </tbody>\n",
       "</table>\n",
       "</div>"
      ],
      "text/plain": [
       "                1_engine  2_machinery-impact  3_non-machinery-impact  \\\n",
       "audio_filename                                                         \n",
       "00_000066.wav          1                   0                       0   \n",
       "00_000118.wav          1                   0                       0   \n",
       "\n",
       "                4_powered-saw  5_alert-signal  6_music  7_human-voice  8_dog  \n",
       "audio_filename                                                                \n",
       "00_000066.wav               0               0        0              0      0  \n",
       "00_000118.wav               0               0        0              1      0  "
      ]
     },
     "execution_count": 46,
     "metadata": {},
     "output_type": "execute_result"
    },
    {
     "data": {
      "text/html": [
       "<div>\n",
       "<style scoped>\n",
       "    .dataframe tbody tr th:only-of-type {\n",
       "        vertical-align: middle;\n",
       "    }\n",
       "\n",
       "    .dataframe tbody tr th {\n",
       "        vertical-align: top;\n",
       "    }\n",
       "\n",
       "    .dataframe thead th {\n",
       "        text-align: right;\n",
       "    }\n",
       "</style>\n",
       "<table border=\"1\" class=\"dataframe\">\n",
       "  <thead>\n",
       "    <tr style=\"text-align: right;\">\n",
       "      <th></th>\n",
       "      <th>1-1_small-sounding-engine</th>\n",
       "      <th>1-2_medium-sounding-engine</th>\n",
       "      <th>1-3_large-sounding-engine</th>\n",
       "      <th>1-X_engine-of-uncertain-size</th>\n",
       "      <th>2-1_rock-drill</th>\n",
       "      <th>2-2_jackhammer</th>\n",
       "      <th>2-3_hoe-ram</th>\n",
       "      <th>2-4_pile-driver</th>\n",
       "      <th>2-X_other-unknown-impact-machinery</th>\n",
       "      <th>3-1_non-machinery-impact</th>\n",
       "      <th>...</th>\n",
       "      <th>6-1_stationary-music</th>\n",
       "      <th>6-2_mobile-music</th>\n",
       "      <th>6-3_ice-cream-truck</th>\n",
       "      <th>6-X_music-from-uncertain-source</th>\n",
       "      <th>7-1_person-or-small-group-talking</th>\n",
       "      <th>7-2_person-or-small-group-shouting</th>\n",
       "      <th>7-3_large-crowd</th>\n",
       "      <th>7-4_amplified-speech</th>\n",
       "      <th>7-X_other-unknown-human-voice</th>\n",
       "      <th>8-1_dog-barking-whining</th>\n",
       "    </tr>\n",
       "    <tr>\n",
       "      <th>audio_filename</th>\n",
       "      <th></th>\n",
       "      <th></th>\n",
       "      <th></th>\n",
       "      <th></th>\n",
       "      <th></th>\n",
       "      <th></th>\n",
       "      <th></th>\n",
       "      <th></th>\n",
       "      <th></th>\n",
       "      <th></th>\n",
       "      <th></th>\n",
       "      <th></th>\n",
       "      <th></th>\n",
       "      <th></th>\n",
       "      <th></th>\n",
       "      <th></th>\n",
       "      <th></th>\n",
       "      <th></th>\n",
       "      <th></th>\n",
       "      <th></th>\n",
       "      <th></th>\n",
       "    </tr>\n",
       "  </thead>\n",
       "  <tbody>\n",
       "    <tr>\n",
       "      <th>01_010234.wav</th>\n",
       "      <td>0</td>\n",
       "      <td>0</td>\n",
       "      <td>0</td>\n",
       "      <td>0</td>\n",
       "      <td>0</td>\n",
       "      <td>0</td>\n",
       "      <td>0</td>\n",
       "      <td>0</td>\n",
       "      <td>0</td>\n",
       "      <td>0</td>\n",
       "      <td>...</td>\n",
       "      <td>0</td>\n",
       "      <td>0</td>\n",
       "      <td>0</td>\n",
       "      <td>0</td>\n",
       "      <td>0</td>\n",
       "      <td>0</td>\n",
       "      <td>0</td>\n",
       "      <td>0</td>\n",
       "      <td>0</td>\n",
       "      <td>1</td>\n",
       "    </tr>\n",
       "    <tr>\n",
       "      <th>01_010270.wav</th>\n",
       "      <td>0</td>\n",
       "      <td>0</td>\n",
       "      <td>0</td>\n",
       "      <td>0</td>\n",
       "      <td>0</td>\n",
       "      <td>0</td>\n",
       "      <td>0</td>\n",
       "      <td>0</td>\n",
       "      <td>0</td>\n",
       "      <td>0</td>\n",
       "      <td>...</td>\n",
       "      <td>0</td>\n",
       "      <td>0</td>\n",
       "      <td>0</td>\n",
       "      <td>0</td>\n",
       "      <td>0</td>\n",
       "      <td>0</td>\n",
       "      <td>0</td>\n",
       "      <td>0</td>\n",
       "      <td>0</td>\n",
       "      <td>1</td>\n",
       "    </tr>\n",
       "  </tbody>\n",
       "</table>\n",
       "<p>2 rows × 29 columns</p>\n",
       "</div>"
      ],
      "text/plain": [
       "                1-1_small-sounding-engine  1-2_medium-sounding-engine  \\\n",
       "audio_filename                                                          \n",
       "01_010234.wav                           0                           0   \n",
       "01_010270.wav                           0                           0   \n",
       "\n",
       "                1-3_large-sounding-engine  1-X_engine-of-uncertain-size  \\\n",
       "audio_filename                                                            \n",
       "01_010234.wav                           0                             0   \n",
       "01_010270.wav                           0                             0   \n",
       "\n",
       "                2-1_rock-drill  2-2_jackhammer  2-3_hoe-ram  2-4_pile-driver  \\\n",
       "audio_filename                                                                 \n",
       "01_010234.wav                0               0            0                0   \n",
       "01_010270.wav                0               0            0                0   \n",
       "\n",
       "                2-X_other-unknown-impact-machinery  3-1_non-machinery-impact  \\\n",
       "audio_filename                                                                 \n",
       "01_010234.wav                                    0                         0   \n",
       "01_010270.wav                                    0                         0   \n",
       "\n",
       "                ...  6-1_stationary-music  6-2_mobile-music  \\\n",
       "audio_filename  ...                                           \n",
       "01_010234.wav   ...                     0                 0   \n",
       "01_010270.wav   ...                     0                 0   \n",
       "\n",
       "                6-3_ice-cream-truck  6-X_music-from-uncertain-source  \\\n",
       "audio_filename                                                         \n",
       "01_010234.wav                     0                                0   \n",
       "01_010270.wav                     0                                0   \n",
       "\n",
       "                7-1_person-or-small-group-talking  \\\n",
       "audio_filename                                      \n",
       "01_010234.wav                                   0   \n",
       "01_010270.wav                                   0   \n",
       "\n",
       "                7-2_person-or-small-group-shouting  7-3_large-crowd  \\\n",
       "audio_filename                                                        \n",
       "01_010234.wav                                    0                0   \n",
       "01_010270.wav                                    0                0   \n",
       "\n",
       "                7-4_amplified-speech  7-X_other-unknown-human-voice  \\\n",
       "audio_filename                                                        \n",
       "01_010234.wav                      0                              0   \n",
       "01_010270.wav                      0                              0   \n",
       "\n",
       "                8-1_dog-barking-whining  \n",
       "audio_filename                           \n",
       "01_010234.wav                         1  \n",
       "01_010270.wav                         1  \n",
       "\n",
       "[2 rows x 29 columns]"
      ]
     },
     "execution_count": 46,
     "metadata": {},
     "output_type": "execute_result"
    },
    {
     "data": {
      "text/html": [
       "<div>\n",
       "<style scoped>\n",
       "    .dataframe tbody tr th:only-of-type {\n",
       "        vertical-align: middle;\n",
       "    }\n",
       "\n",
       "    .dataframe tbody tr th {\n",
       "        vertical-align: top;\n",
       "    }\n",
       "\n",
       "    .dataframe thead th {\n",
       "        text-align: right;\n",
       "    }\n",
       "</style>\n",
       "<table border=\"1\" class=\"dataframe\">\n",
       "  <thead>\n",
       "    <tr style=\"text-align: right;\">\n",
       "      <th></th>\n",
       "      <th>1-1_small-sounding-engine</th>\n",
       "      <th>1-2_medium-sounding-engine</th>\n",
       "      <th>1-3_large-sounding-engine</th>\n",
       "      <th>1-X_engine-of-uncertain-size</th>\n",
       "      <th>2-1_rock-drill</th>\n",
       "      <th>2-2_jackhammer</th>\n",
       "      <th>2-3_hoe-ram</th>\n",
       "      <th>2-4_pile-driver</th>\n",
       "      <th>2-X_other-unknown-impact-machinery</th>\n",
       "      <th>3-1_non-machinery-impact</th>\n",
       "      <th>...</th>\n",
       "      <th>6-1_stationary-music</th>\n",
       "      <th>6-2_mobile-music</th>\n",
       "      <th>6-3_ice-cream-truck</th>\n",
       "      <th>6-X_music-from-uncertain-source</th>\n",
       "      <th>7-1_person-or-small-group-talking</th>\n",
       "      <th>7-2_person-or-small-group-shouting</th>\n",
       "      <th>7-3_large-crowd</th>\n",
       "      <th>7-4_amplified-speech</th>\n",
       "      <th>7-X_other-unknown-human-voice</th>\n",
       "      <th>8-1_dog-barking-whining</th>\n",
       "    </tr>\n",
       "    <tr>\n",
       "      <th>audio_filename</th>\n",
       "      <th></th>\n",
       "      <th></th>\n",
       "      <th></th>\n",
       "      <th></th>\n",
       "      <th></th>\n",
       "      <th></th>\n",
       "      <th></th>\n",
       "      <th></th>\n",
       "      <th></th>\n",
       "      <th></th>\n",
       "      <th></th>\n",
       "      <th></th>\n",
       "      <th></th>\n",
       "      <th></th>\n",
       "      <th></th>\n",
       "      <th></th>\n",
       "      <th></th>\n",
       "      <th></th>\n",
       "      <th></th>\n",
       "      <th></th>\n",
       "      <th></th>\n",
       "    </tr>\n",
       "  </thead>\n",
       "  <tbody>\n",
       "    <tr>\n",
       "      <th>00_000066.wav</th>\n",
       "      <td>0</td>\n",
       "      <td>0</td>\n",
       "      <td>1</td>\n",
       "      <td>0</td>\n",
       "      <td>0</td>\n",
       "      <td>0</td>\n",
       "      <td>0</td>\n",
       "      <td>0</td>\n",
       "      <td>0</td>\n",
       "      <td>0</td>\n",
       "      <td>...</td>\n",
       "      <td>0</td>\n",
       "      <td>0</td>\n",
       "      <td>0</td>\n",
       "      <td>0</td>\n",
       "      <td>0</td>\n",
       "      <td>0</td>\n",
       "      <td>0</td>\n",
       "      <td>0</td>\n",
       "      <td>0</td>\n",
       "      <td>0</td>\n",
       "    </tr>\n",
       "    <tr>\n",
       "      <th>00_000118.wav</th>\n",
       "      <td>0</td>\n",
       "      <td>1</td>\n",
       "      <td>0</td>\n",
       "      <td>0</td>\n",
       "      <td>0</td>\n",
       "      <td>0</td>\n",
       "      <td>0</td>\n",
       "      <td>0</td>\n",
       "      <td>0</td>\n",
       "      <td>0</td>\n",
       "      <td>...</td>\n",
       "      <td>0</td>\n",
       "      <td>0</td>\n",
       "      <td>0</td>\n",
       "      <td>0</td>\n",
       "      <td>0</td>\n",
       "      <td>1</td>\n",
       "      <td>0</td>\n",
       "      <td>0</td>\n",
       "      <td>0</td>\n",
       "      <td>0</td>\n",
       "    </tr>\n",
       "  </tbody>\n",
       "</table>\n",
       "<p>2 rows × 29 columns</p>\n",
       "</div>"
      ],
      "text/plain": [
       "                1-1_small-sounding-engine  1-2_medium-sounding-engine  \\\n",
       "audio_filename                                                          \n",
       "00_000066.wav                           0                           0   \n",
       "00_000118.wav                           0                           1   \n",
       "\n",
       "                1-3_large-sounding-engine  1-X_engine-of-uncertain-size  \\\n",
       "audio_filename                                                            \n",
       "00_000066.wav                           1                             0   \n",
       "00_000118.wav                           0                             0   \n",
       "\n",
       "                2-1_rock-drill  2-2_jackhammer  2-3_hoe-ram  2-4_pile-driver  \\\n",
       "audio_filename                                                                 \n",
       "00_000066.wav                0               0            0                0   \n",
       "00_000118.wav                0               0            0                0   \n",
       "\n",
       "                2-X_other-unknown-impact-machinery  3-1_non-machinery-impact  \\\n",
       "audio_filename                                                                 \n",
       "00_000066.wav                                    0                         0   \n",
       "00_000118.wav                                    0                         0   \n",
       "\n",
       "                ...  6-1_stationary-music  6-2_mobile-music  \\\n",
       "audio_filename  ...                                           \n",
       "00_000066.wav   ...                     0                 0   \n",
       "00_000118.wav   ...                     0                 0   \n",
       "\n",
       "                6-3_ice-cream-truck  6-X_music-from-uncertain-source  \\\n",
       "audio_filename                                                         \n",
       "00_000066.wav                     0                                0   \n",
       "00_000118.wav                     0                                0   \n",
       "\n",
       "                7-1_person-or-small-group-talking  \\\n",
       "audio_filename                                      \n",
       "00_000066.wav                                   0   \n",
       "00_000118.wav                                   0   \n",
       "\n",
       "                7-2_person-or-small-group-shouting  7-3_large-crowd  \\\n",
       "audio_filename                                                        \n",
       "00_000066.wav                                    0                0   \n",
       "00_000118.wav                                    1                0   \n",
       "\n",
       "                7-4_amplified-speech  7-X_other-unknown-human-voice  \\\n",
       "audio_filename                                                        \n",
       "00_000066.wav                      0                              0   \n",
       "00_000118.wav                      0                              0   \n",
       "\n",
       "                8-1_dog-barking-whining  \n",
       "audio_filename                           \n",
       "00_000066.wav                         0  \n",
       "00_000118.wav                         0  \n",
       "\n",
       "[2 rows x 29 columns]"
      ]
     },
     "execution_count": 46,
     "metadata": {},
     "output_type": "execute_result"
    }
   ],
   "source": [
    "coarse_train_gt.head(2)\n",
    "coarse_valid_gt.head(2)\n",
    "fine_train_gt.head(2)\n",
    "fine_valid_gt.head(2)"
   ]
  },
  {
   "cell_type": "markdown",
   "metadata": {},
   "source": [
    "---"
   ]
  },
  {
   "cell_type": "code",
   "execution_count": 47,
   "metadata": {},
   "outputs": [],
   "source": [
    "train_metadata_gt = (annotation_data.copy()\n",
    "                     .loc[lambda x: x.split == 'train']\n",
    "                     .loc[lambda x: x.annotator_id == 0]\n",
    "                     .loc[:, metadata_cols]\n",
    "                     .drop_duplicates()\n",
    "                     .set_index('audio_filename'))\n",
    "valid_metadata_gt = (annotation_data.copy()\n",
    "                     .loc[lambda x: x.split == 'validate']\n",
    "                     .loc[lambda x: x.annotator_id == 0]\n",
    "                     .loc[:, metadata_cols]\n",
    "                     .drop_duplicates()\n",
    "                     .set_index('audio_filename'))"
   ]
  },
  {
   "cell_type": "code",
   "execution_count": 48,
   "metadata": {},
   "outputs": [
    {
     "data": {
      "text/plain": [
       "((178, 11), (538, 11))"
      ]
     },
     "execution_count": 48,
     "metadata": {},
     "output_type": "execute_result"
    }
   ],
   "source": [
    "train_metadata_gt.shape, valid_metadata_gt.shape"
   ]
  },
  {
   "cell_type": "code",
   "execution_count": 49,
   "metadata": {},
   "outputs": [
    {
     "data": {
      "text/html": [
       "<div>\n",
       "<style scoped>\n",
       "    .dataframe tbody tr th:only-of-type {\n",
       "        vertical-align: middle;\n",
       "    }\n",
       "\n",
       "    .dataframe tbody tr th {\n",
       "        vertical-align: top;\n",
       "    }\n",
       "\n",
       "    .dataframe thead th {\n",
       "        text-align: right;\n",
       "    }\n",
       "</style>\n",
       "<table border=\"1\" class=\"dataframe\">\n",
       "  <thead>\n",
       "    <tr style=\"text-align: right;\">\n",
       "      <th></th>\n",
       "      <th>sensor_id</th>\n",
       "      <th>borough</th>\n",
       "      <th>block</th>\n",
       "      <th>latitude</th>\n",
       "      <th>longitude</th>\n",
       "      <th>year</th>\n",
       "      <th>week</th>\n",
       "      <th>day</th>\n",
       "      <th>hour</th>\n",
       "      <th>dt</th>\n",
       "      <th>date_slno</th>\n",
       "    </tr>\n",
       "    <tr>\n",
       "      <th>audio_filename</th>\n",
       "      <th></th>\n",
       "      <th></th>\n",
       "      <th></th>\n",
       "      <th></th>\n",
       "      <th></th>\n",
       "      <th></th>\n",
       "      <th></th>\n",
       "      <th></th>\n",
       "      <th></th>\n",
       "      <th></th>\n",
       "      <th></th>\n",
       "    </tr>\n",
       "  </thead>\n",
       "  <tbody>\n",
       "    <tr>\n",
       "      <th>01_010234.wav</th>\n",
       "      <td>1</td>\n",
       "      <td>1</td>\n",
       "      <td>541</td>\n",
       "      <td>40.73033</td>\n",
       "      <td>-73.9987</td>\n",
       "      <td>2018</td>\n",
       "      <td>10</td>\n",
       "      <td>6</td>\n",
       "      <td>7</td>\n",
       "      <td>2018-03-11</td>\n",
       "      <td>673</td>\n",
       "    </tr>\n",
       "    <tr>\n",
       "      <th>01_010270.wav</th>\n",
       "      <td>1</td>\n",
       "      <td>1</td>\n",
       "      <td>541</td>\n",
       "      <td>40.73033</td>\n",
       "      <td>-73.9987</td>\n",
       "      <td>2018</td>\n",
       "      <td>21</td>\n",
       "      <td>2</td>\n",
       "      <td>7</td>\n",
       "      <td>2018-05-23</td>\n",
       "      <td>746</td>\n",
       "    </tr>\n",
       "  </tbody>\n",
       "</table>\n",
       "</div>"
      ],
      "text/plain": [
       "                sensor_id  borough  block  latitude  longitude  year  week  \\\n",
       "audio_filename                                                               \n",
       "01_010234.wav           1        1    541  40.73033   -73.9987  2018    10   \n",
       "01_010270.wav           1        1    541  40.73033   -73.9987  2018    21   \n",
       "\n",
       "                day  hour         dt  date_slno  \n",
       "audio_filename                                   \n",
       "01_010234.wav     6     7 2018-03-11        673  \n",
       "01_010270.wav     2     7 2018-05-23        746  "
      ]
     },
     "execution_count": 49,
     "metadata": {},
     "output_type": "execute_result"
    },
    {
     "data": {
      "text/html": [
       "<div>\n",
       "<style scoped>\n",
       "    .dataframe tbody tr th:only-of-type {\n",
       "        vertical-align: middle;\n",
       "    }\n",
       "\n",
       "    .dataframe tbody tr th {\n",
       "        vertical-align: top;\n",
       "    }\n",
       "\n",
       "    .dataframe thead th {\n",
       "        text-align: right;\n",
       "    }\n",
       "</style>\n",
       "<table border=\"1\" class=\"dataframe\">\n",
       "  <thead>\n",
       "    <tr style=\"text-align: right;\">\n",
       "      <th></th>\n",
       "      <th>sensor_id</th>\n",
       "      <th>borough</th>\n",
       "      <th>block</th>\n",
       "      <th>latitude</th>\n",
       "      <th>longitude</th>\n",
       "      <th>year</th>\n",
       "      <th>week</th>\n",
       "      <th>day</th>\n",
       "      <th>hour</th>\n",
       "      <th>dt</th>\n",
       "      <th>date_slno</th>\n",
       "    </tr>\n",
       "    <tr>\n",
       "      <th>audio_filename</th>\n",
       "      <th></th>\n",
       "      <th></th>\n",
       "      <th></th>\n",
       "      <th></th>\n",
       "      <th></th>\n",
       "      <th></th>\n",
       "      <th></th>\n",
       "      <th></th>\n",
       "      <th></th>\n",
       "      <th></th>\n",
       "      <th></th>\n",
       "    </tr>\n",
       "  </thead>\n",
       "  <tbody>\n",
       "    <tr>\n",
       "      <th>00_000066.wav</th>\n",
       "      <td>0</td>\n",
       "      <td>1</td>\n",
       "      <td>547</td>\n",
       "      <td>40.72951</td>\n",
       "      <td>-73.99388</td>\n",
       "      <td>2017</td>\n",
       "      <td>28</td>\n",
       "      <td>2</td>\n",
       "      <td>0</td>\n",
       "      <td>2017-07-12</td>\n",
       "      <td>431</td>\n",
       "    </tr>\n",
       "    <tr>\n",
       "      <th>00_000118.wav</th>\n",
       "      <td>0</td>\n",
       "      <td>1</td>\n",
       "      <td>547</td>\n",
       "      <td>40.72951</td>\n",
       "      <td>-73.99388</td>\n",
       "      <td>2017</td>\n",
       "      <td>40</td>\n",
       "      <td>0</td>\n",
       "      <td>21</td>\n",
       "      <td>2017-10-02</td>\n",
       "      <td>513</td>\n",
       "    </tr>\n",
       "  </tbody>\n",
       "</table>\n",
       "</div>"
      ],
      "text/plain": [
       "                sensor_id  borough  block  latitude  longitude  year  week  \\\n",
       "audio_filename                                                               \n",
       "00_000066.wav           0        1    547  40.72951  -73.99388  2017    28   \n",
       "00_000118.wav           0        1    547  40.72951  -73.99388  2017    40   \n",
       "\n",
       "                day  hour         dt  date_slno  \n",
       "audio_filename                                   \n",
       "00_000066.wav     2     0 2017-07-12        431  \n",
       "00_000118.wav     0    21 2017-10-02        513  "
      ]
     },
     "execution_count": 49,
     "metadata": {},
     "output_type": "execute_result"
    }
   ],
   "source": [
    "train_metadata_gt.head(2)\n",
    "valid_metadata_gt.head(2)"
   ]
  },
  {
   "cell_type": "markdown",
   "metadata": {},
   "source": [
    "# Save metadata"
   ]
  },
  {
   "cell_type": "code",
   "execution_count": 51,
   "metadata": {},
   "outputs": [],
   "source": [
    "with open('./data/metadata.pkl', 'wb') as f:\n",
    "    pickle.dump({\n",
    "        'coarse_train': coarse_train,\n",
    "        'coarse_valid': coarse_valid,\n",
    "        'fine_train': fine_train,\n",
    "        'fine_valid': fine_valid,\n",
    "        'train_metadata': train_metadata,\n",
    "        'valid_metadata': valid_metadata,\n",
    "        'coarse_train_gt': coarse_train_gt,\n",
    "        'coarse_valid_gt': coarse_valid_gt,\n",
    "        'fine_train_gt': fine_train_gt,\n",
    "        'fine_valid_gt': fine_valid_gt,\n",
    "        'train_metadata_gt': train_metadata_gt,\n",
    "        'valid_metadata_gt': valid_metadata_gt,\n",
    "        'taxonomy_df': taxonomy_df\n",
    "    }, f)"
   ]
  },
  {
   "cell_type": "code",
   "execution_count": null,
   "metadata": {},
   "outputs": [],
   "source": []
  }
 ],
 "metadata": {
  "kernelspec": {
   "display_name": "Python 3",
   "language": "python",
   "name": "python3"
  },
  "language_info": {
   "codemirror_mode": {
    "name": "ipython",
    "version": 3
   },
   "file_extension": ".py",
   "mimetype": "text/x-python",
   "name": "python",
   "nbconvert_exporter": "python",
   "pygments_lexer": "ipython3",
   "version": "3.6.9"
  },
  "toc": {
   "base_numbering": 1,
   "nav_menu": {},
   "number_sections": true,
   "sideBar": true,
   "skip_h1_title": false,
   "title_cell": "Table of Contents",
   "title_sidebar": "Contents",
   "toc_cell": false,
   "toc_position": {},
   "toc_section_display": true,
   "toc_window_display": false
  }
 },
 "nbformat": 4,
 "nbformat_minor": 4
}
